{
 "cells": [
  {
   "cell_type": "code",
   "execution_count": 1,
   "metadata": {
    "ExecuteTime": {
     "end_time": "2023-07-30T09:23:46.686997200Z",
     "start_time": "2023-07-30T09:23:46.583593900Z"
    }
   },
   "outputs": [],
   "source": [
    "import pickle\n",
    "import rdkit\n",
    "from rdkit import Chem\n",
    "from rdkit.Chem import BondType\n",
    "import re"
   ]
  },
  {
   "cell_type": "markdown",
   "source": [
    "필요한 함수 정의"
   ],
   "metadata": {
    "collapsed": false
   }
  },
  {
   "cell_type": "code",
   "execution_count": 2,
   "outputs": [],
   "source": [
    "def dgl_to_matrix(file_path):\n",
    "    f = open(file_path, 'rb')\n",
    "    dgls = pickle.load(f)\n",
    "\n",
    "    smarts_list = list()\n",
    "    smiles_errors = list()\n",
    "    error_indices = []  # List to store the indices of molecules that caused an error\n",
    "\n",
    "    for idx, g in enumerate(dgls):\n",
    "        try:\n",
    "            num_nodes = g.num_nodes()\n",
    "            node_feature = g.ndata['feat']\n",
    "            adj_matrix = g.edata['feat'].reshape(num_nodes, num_nodes)\n",
    "\n",
    "            for i in range(adj_matrix.shape[0]):\n",
    "                adj_matrix[i, i] = 0\n",
    "\n",
    "            molecule = graph_to_molecule(node_feature, adj_matrix)\n",
    "\n",
    "            smile = rdkit.Chem.MolToSmiles(molecule)\n",
    "            sma = SmilesToSmarts(smile)\n",
    "#           cano_smi = # canonicalize ### 은정님께 받으면 수정\n",
    "            smarts_list.append(sma)\n",
    "        except Exception as e:\n",
    "            print(f\"Error occurred at index {idx}: {e}\")\n",
    "            error_indices.append(idx)\n",
    "            smiles_errors.append(smile)\n",
    "\n",
    "    return smarts_list, smiles_errors, error_indices\n"
   ],
   "metadata": {
    "collapsed": false,
    "ExecuteTime": {
     "end_time": "2023-07-30T09:23:48.987298100Z",
     "start_time": "2023-07-30T09:23:48.946792500Z"
    }
   }
  },
  {
   "cell_type": "code",
   "execution_count": 3,
   "metadata": {
    "scrolled": true,
    "ExecuteTime": {
     "end_time": "2023-07-30T09:23:49.546625900Z",
     "start_time": "2023-07-30T09:23:49.484202500Z"
    }
   },
   "outputs": [
    {
     "name": "stdout",
     "output_type": "stream",
     "text": [
      "bond_mapping:  {'SINGLE': 1, 'DOUBLE': 2, 'TRIPLE': 3, 'AROMATIC': 4, 1: rdkit.Chem.rdchem.BondType.SINGLE, 2: rdkit.Chem.rdchem.BondType.DOUBLE, 3: rdkit.Chem.rdchem.BondType.TRIPLE, 4: rdkit.Chem.rdchem.BondType.AROMATIC}\n",
      "atom_mapping:  {'C': 0, 'F': 1, 'H': 2, 'N': 3, 'O': 4, 0: 'C', 1: 'F', 2: 'H', 3: 'N', 4: 'O'}\n"
     ]
    }
   ],
   "source": [
    "bond_mapping = {\"SINGLE\": 1, \"DOUBLE\": 2, \"TRIPLE\": 3, \"AROMATIC\": 4}\n",
    "bond_mapping.update({1:BondType.SINGLE, 2: BondType.DOUBLE, 3: BondType.TRIPLE, 4: BondType.AROMATIC})\n",
    "print('bond_mapping: ', bond_mapping)\n",
    "\n",
    "SMILE_CHARSET = ['C', 'F', 'H', 'N', 'O']\n",
    "SMILE_to_index = dict((c, i) for i, c in enumerate(SMILE_CHARSET))\n",
    "index_to_SMILE = dict((i, c) for i, c in enumerate(SMILE_CHARSET))\n",
    "atom_mapping = dict(SMILE_to_index)\n",
    "atom_mapping.update(index_to_SMILE)\n",
    "print('atom_mapping: ', atom_mapping)"
   ]
  },
  {
   "cell_type": "code",
   "execution_count": 4,
   "outputs": [],
   "source": [
    "def graph_to_molecule(features, adjacency):\n",
    "    molecule = Chem.RWMol()  # 편집 가능한 빈 molecule 추가\n",
    "    num_atoms = len(features)\n",
    "    atom_index_map = {}\n",
    "\n",
    "    # 'features' 이용해서 molecule에 atom 추가\n",
    "    for i in range(num_atoms):\n",
    "        atom_type = features[i].item() # Convert tensor to int\n",
    "        atom_symbol = atom_mapping[atom_type]\n",
    "        new_atom_index = molecule.AddAtom(Chem.Atom(atom_symbol))\n",
    "        atom_index_map[i] = new_atom_index\n",
    "\n",
    "    # 'adjacency' 이용해서 molecule에 bond 추가\n",
    "    for i in range(num_atoms):\n",
    "        for j in range(i + 1, num_atoms):\n",
    "            bond_type_idx = adjacency[i, j].item()  # Convert tensor to int\n",
    "\n",
    "            if bond_type_idx == 0:\n",
    "                continue\n",
    "\n",
    "            bond_type = bond_mapping[bond_type_idx]\n",
    "\n",
    "            new_i = atom_index_map[i]\n",
    "            new_j = atom_index_map[j]\n",
    "\n",
    "            if bond_type != 0:\n",
    "                molecule.AddBond(new_i, new_j, bond_type)\n",
    "\n",
    "    return molecule"
   ],
   "metadata": {
    "collapsed": false,
    "ExecuteTime": {
     "end_time": "2023-07-30T09:23:49.973922100Z",
     "start_time": "2023-07-30T09:23:49.929043500Z"
    }
   }
  },
  {
   "cell_type": "code",
   "execution_count": 5,
   "outputs": [],
   "source": [
    "def molWatom(mol):  # smiles 에 smarts 처럼 위치정보를 입력하는 함수\n",
    "    for atom in mol.GetAtoms():\n",
    "        atom.SetAtomMapNum(atom.GetIdx())\n",
    "    return mol\n",
    "\n",
    "def SmilesToSmarts(smi):\n",
    "    mol = Chem.MolFromSmiles(smi)\n",
    "    mol_w_atom = molWatom(mol)\n",
    "    sma = Chem.MolToSmarts(mol_w_atom)\n",
    "\n",
    "    smia = mol_w_atom.GetAtoms()\n",
    "    smial = [i.GetSymbol() for i in smia]\n",
    "\n",
    "    t1 = re.compile('#\\d+')\n",
    "    result = t1.findall(sma)\n",
    "\n",
    "    for i, j in enumerate(result):\n",
    "        sma = sma.replace(j, smial[i], 1)\n",
    "\n",
    "    return sma"
   ],
   "metadata": {
    "collapsed": false,
    "ExecuteTime": {
     "end_time": "2023-07-30T09:23:50.404448200Z",
     "start_time": "2023-07-30T09:23:50.393014300Z"
    }
   }
  },
  {
   "cell_type": "code",
   "execution_count": 18,
   "outputs": [],
   "source": [
    "def save_smarts_to_txt(smarts_list, file_path):\n",
    "    with open(file_path, 'w') as f:\n",
    "        for sma in smarts_list:\n",
    "            f.write(sma + '\\n')"
   ],
   "metadata": {
    "collapsed": false,
    "ExecuteTime": {
     "end_time": "2023-07-30T09:27:48.038996800Z",
     "start_time": "2023-07-30T09:27:48.028985600Z"
    }
   }
  },
  {
   "cell_type": "code",
   "execution_count": 5,
   "outputs": [],
   "source": [],
   "metadata": {
    "collapsed": false,
    "ExecuteTime": {
     "end_time": "2023-07-30T09:23:51.892694300Z",
     "start_time": "2023-07-30T09:23:51.888176Z"
    }
   }
  },
  {
   "cell_type": "code",
   "execution_count": 6,
   "outputs": [
    {
     "name": "stderr",
     "output_type": "stream",
     "text": [
      "[18:23:56] Can't kekulize mol.  Unkekulized atoms: 3 4 5 6 7\n",
      "[18:23:56] Can't kekulize mol.  Unkekulized atoms: 2 3 5 6 8\n",
      "[18:23:56] Can't kekulize mol.  Unkekulized atoms: 2 3 4 6 7\n",
      "[18:23:56] Can't kekulize mol.  Unkekulized atoms: 2 3 4 5 6\n",
      "[18:23:56] Can't kekulize mol.  Unkekulized atoms: 4 5 6 7 8\n",
      "[18:23:56] Can't kekulize mol.  Unkekulized atoms: 3 4 5 6 8\n",
      "[18:23:56] Can't kekulize mol.  Unkekulized atoms: 2 3 4 5 8\n",
      "[18:23:56] Can't kekulize mol.  Unkekulized atoms: 2 3 4 6 8\n",
      "[18:23:56] Can't kekulize mol.  Unkekulized atoms: 4 5 6 7 8\n",
      "[18:23:56] Can't kekulize mol.  Unkekulized atoms: 3 4 5 6 7\n",
      "[18:23:56] Can't kekulize mol.  Unkekulized atoms: 2 3 4 5 6\n",
      "[18:23:56] Can't kekulize mol.  Unkekulized atoms: 1 2 3 4 5\n",
      "[18:23:56] Can't kekulize mol.  Unkekulized atoms: 1 2 3 4 5 6 7\n",
      "[18:23:56] Can't kekulize mol.  Unkekulized atoms: 2 3 4 5 6\n",
      "[18:23:56] Can't kekulize mol.  Unkekulized atoms: 4 5 6 7 8\n",
      "[18:23:56] Can't kekulize mol.  Unkekulized atoms: 2 3 4 5 6\n",
      "[18:23:56] Can't kekulize mol.  Unkekulized atoms: 2 3 4 5 6\n",
      "[18:23:56] Can't kekulize mol.  Unkekulized atoms: 2 3 4 5 8\n",
      "[18:23:56] Can't kekulize mol.  Unkekulized atoms: 3 4 5 6 7\n",
      "[18:23:56] Can't kekulize mol.  Unkekulized atoms: 4 5 6 7 8\n",
      "[18:23:56] Can't kekulize mol.  Unkekulized atoms: 2 3 4 5 6\n",
      "[18:23:56] Can't kekulize mol.  Unkekulized atoms: 2 3 4 7 8\n",
      "[18:23:56] Can't kekulize mol.  Unkekulized atoms: 2 6 7\n",
      "[18:23:56] Can't kekulize mol.  Unkekulized atoms: 1 2 3 6 7\n",
      "[18:23:56] Can't kekulize mol.  Unkekulized atoms: 3 4 5 6 7\n",
      "[18:23:56] Can't kekulize mol.  Unkekulized atoms: 1 2 3 4 7\n",
      "[18:23:56] Can't kekulize mol.  Unkekulized atoms: 1 2 3 5 8\n",
      "[18:23:56] Can't kekulize mol.  Unkekulized atoms: 2 3 4 5 6\n",
      "[18:23:56] Can't kekulize mol.  Unkekulized atoms: 2 3 5 6 7\n",
      "[18:23:56] Can't kekulize mol.  Unkekulized atoms: 3 4 8\n",
      "[18:23:56] Can't kekulize mol.  Unkekulized atoms: 1 2 3 4 5\n",
      "[18:23:56] Can't kekulize mol.  Unkekulized atoms: 1 2 3 4 8\n",
      "[18:23:56] Can't kekulize mol.  Unkekulized atoms: 2 3 4\n",
      "[18:23:56] Can't kekulize mol.  Unkekulized atoms: 4 5 6 7 8\n",
      "[18:23:56] Can't kekulize mol.  Unkekulized atoms: 4 5 6 7 8\n",
      "[18:23:56] Can't kekulize mol.  Unkekulized atoms: 3 4 5 6 7\n",
      "[18:23:56] Can't kekulize mol.  Unkekulized atoms: 4 5 6 7 8\n",
      "[18:23:56] Can't kekulize mol.  Unkekulized atoms: 0 1 2 3 4 6 7\n",
      "[18:23:56] Can't kekulize mol.  Unkekulized atoms: 2 3 4 7\n"
     ]
    },
    {
     "name": "stdout",
     "output_type": "stream",
     "text": [
      "Error occurred at index 18: 'NoneType' object has no attribute 'GetAtoms'\n",
      "Error occurred at index 31: 'NoneType' object has no attribute 'GetAtoms'\n",
      "Error occurred at index 52: 'NoneType' object has no attribute 'GetAtoms'\n",
      "Error occurred at index 54: 'NoneType' object has no attribute 'GetAtoms'\n",
      "Error occurred at index 82: 'NoneType' object has no attribute 'GetAtoms'\n",
      "Error occurred at index 87: 'NoneType' object has no attribute 'GetAtoms'\n",
      "Error occurred at index 99: 'NoneType' object has no attribute 'GetAtoms'\n",
      "Error occurred at index 117: 'NoneType' object has no attribute 'GetAtoms'\n",
      "Error occurred at index 126: 'NoneType' object has no attribute 'GetAtoms'\n",
      "Error occurred at index 136: 'NoneType' object has no attribute 'GetAtoms'\n",
      "Error occurred at index 207: 'NoneType' object has no attribute 'GetAtoms'\n",
      "Error occurred at index 227: 'NoneType' object has no attribute 'GetAtoms'\n",
      "Error occurred at index 228: 'NoneType' object has no attribute 'GetAtoms'\n",
      "Error occurred at index 239: 'NoneType' object has no attribute 'GetAtoms'\n",
      "Error occurred at index 240: 'NoneType' object has no attribute 'GetAtoms'\n",
      "Error occurred at index 250: 'NoneType' object has no attribute 'GetAtoms'\n",
      "Error occurred at index 261: 'NoneType' object has no attribute 'GetAtoms'\n",
      "Error occurred at index 271: 'NoneType' object has no attribute 'GetAtoms'\n",
      "Error occurred at index 277: 'NoneType' object has no attribute 'GetAtoms'\n",
      "Error occurred at index 290: 'NoneType' object has no attribute 'GetAtoms'\n",
      "Error occurred at index 307: 'NoneType' object has no attribute 'GetAtoms'\n",
      "Error occurred at index 320: 'NoneType' object has no attribute 'GetAtoms'\n",
      "Error occurred at index 329: 'NoneType' object has no attribute 'GetAtoms'\n",
      "Error occurred at index 353: 'NoneType' object has no attribute 'GetAtoms'\n",
      "Error occurred at index 369: 'NoneType' object has no attribute 'GetAtoms'\n",
      "Error occurred at index 371: 'NoneType' object has no attribute 'GetAtoms'\n",
      "Error occurred at index 377: 'NoneType' object has no attribute 'GetAtoms'\n",
      "Error occurred at index 378: 'NoneType' object has no attribute 'GetAtoms'\n",
      "Error occurred at index 409: 'NoneType' object has no attribute 'GetAtoms'\n",
      "Error occurred at index 444: 'NoneType' object has no attribute 'GetAtoms'\n",
      "Error occurred at index 448: 'NoneType' object has no attribute 'GetAtoms'\n",
      "Error occurred at index 451: 'NoneType' object has no attribute 'GetAtoms'\n",
      "Error occurred at index 455: 'NoneType' object has no attribute 'GetAtoms'\n",
      "Error occurred at index 466: 'NoneType' object has no attribute 'GetAtoms'\n",
      "Error occurred at index 486: 'NoneType' object has no attribute 'GetAtoms'\n",
      "Error occurred at index 503: 'NoneType' object has no attribute 'GetAtoms'\n",
      "Error occurred at index 521: 'NoneType' object has no attribute 'GetAtoms'\n",
      "Error occurred at index 542: 'NoneType' object has no attribute 'GetAtoms'\n",
      "Error occurred at index 584: 'NoneType' object has no attribute 'GetAtoms'\n",
      "Error occurred at index 589: 'NoneType' object has no attribute 'GetAtoms'\n",
      "Error occurred at index 627: 'NoneType' object has no attribute 'GetAtoms'\n",
      "Error occurred at index 630: 'NoneType' object has no attribute 'GetAtoms'\n",
      "Error occurred at index 650: 'NoneType' object has no attribute 'GetAtoms'\n",
      "Error occurred at index 712: 'NoneType' object has no attribute 'GetAtoms'\n"
     ]
    },
    {
     "name": "stderr",
     "output_type": "stream",
     "text": [
      "[18:23:56] Can't kekulize mol.  Unkekulized atoms: 2 3 6 7 8\n",
      "[18:23:56] Can't kekulize mol.  Unkekulized atoms: 1 2 3 4 5\n",
      "[18:23:56] Can't kekulize mol.  Unkekulized atoms: 2 3 4\n",
      "[18:23:57] Can't kekulize mol.  Unkekulized atoms: 2 3 4 5 7\n",
      "[18:23:57] Can't kekulize mol.  Unkekulized atoms: 3 4 6 7 8\n"
     ]
    }
   ],
   "source": [
    "file_path = './extracted_fmo_data.pkl'\n",
    "smarts_list, smiles_errors, error_indices = dgl_to_matrix(file_path)"
   ],
   "metadata": {
    "collapsed": false,
    "ExecuteTime": {
     "end_time": "2023-07-30T09:23:57.137611600Z",
     "start_time": "2023-07-30T09:23:55.593657500Z"
    }
   }
  },
  {
   "cell_type": "code",
   "execution_count": 19,
   "outputs": [],
   "source": [
    "file_path = './smarts_list_670.txt'\n",
    "save_smarts_to_txt(smarts_list, file_path)"
   ],
   "metadata": {
    "collapsed": false,
    "ExecuteTime": {
     "end_time": "2023-07-30T09:28:36.359091800Z",
     "start_time": "2023-07-30T09:28:36.352679800Z"
    }
   }
  },
  {
   "cell_type": "code",
   "execution_count": 7,
   "outputs": [
    {
     "data": {
      "text/plain": "['NC(=O)c1ccnn1',\n 'N=c1cc(O)cc(N)n1',\n 'N#Cc1nc(O)nc1N',\n 'OCc1nnnc1O',\n 'CC(=NO)c1cccn1',\n 'COCc1cnc(C)n1',\n 'N=c1cnnc(CO)c1',\n 'N=c1nnc(N)c(N)n1',\n 'CCCNc1ncnn1',\n 'CCOc1nnnc1O',\n 'O=Cc1ccnc1CO',\n 'Cc1cncc(F)c1=N',\n 'Nc1nc2ncnc2o1',\n 'C1=Cc2nccc2NC1',\n 'CC1COc2cnnc21',\n 'N=c1ncncn1',\n 'CC1(c2cnnn2)CC1',\n 'CNc1nnc(C#N)n1',\n 'CC(O)c1cnnn1',\n 'CC(=O)Cc1ncnn1',\n 'N#Cc1nnnc1N',\n 'COc1cnc(=N)cn1',\n 'N=c1nc(=O)onc1O',\n 'Cc1ccc(=O)nc1O',\n 'CC#Cc1ncnc1C',\n 'Nc1ncnc(=O)n1',\n 'Cc1nc(F)cc(=N)n1',\n 'O=c1nncnc1CO',\n 'N=c1nc(O)ccc1F',\n 'NC(=O)c1coc(=O)n1',\n 'Cc1ncnc1CCO',\n 'Cc1ncc(CC#N)n1',\n 'Cn1nnnc1=N',\n 'C#CCCc1cccn1',\n 'C#CC(N)c1nccn1',\n 'O=C1Cc2cnnc2N1',\n 'CCC(C)c1cnnn1',\n 'c1nc2ncoc2n1',\n 'N=c1nnnc(=O)n1',\n 'N=c1cnc(=N)nnn1',\n 'Cc1cncnc1=O',\n 'N=c1ncc(C2CN2)o1',\n 'N=c1ccnc(O)c1F',\n 'CN=c1cc(N)cnn1']"
     },
     "execution_count": 7,
     "metadata": {},
     "output_type": "execute_result"
    }
   ],
   "source": [
    "smiles_errors"
   ],
   "metadata": {
    "collapsed": false,
    "ExecuteTime": {
     "end_time": "2023-07-30T09:24:04.082206900Z",
     "start_time": "2023-07-30T09:24:04.017894700Z"
    }
   }
  },
  {
   "cell_type": "code",
   "execution_count": 8,
   "outputs": [
    {
     "data": {
      "text/plain": "44"
     },
     "execution_count": 8,
     "metadata": {},
     "output_type": "execute_result"
    }
   ],
   "source": [
    "len(smiles_errors)"
   ],
   "metadata": {
    "collapsed": false,
    "ExecuteTime": {
     "end_time": "2023-07-30T09:24:07.312979300Z",
     "start_time": "2023-07-30T09:24:07.287121400Z"
    }
   }
  },
  {
   "cell_type": "code",
   "execution_count": 9,
   "outputs": [
    {
     "data": {
      "text/plain": "44"
     },
     "execution_count": 9,
     "metadata": {},
     "output_type": "execute_result"
    }
   ],
   "source": [
    "len(error_indices)"
   ],
   "metadata": {
    "collapsed": false,
    "ExecuteTime": {
     "end_time": "2023-07-30T09:24:07.681943100Z",
     "start_time": "2023-07-30T09:24:07.636985600Z"
    }
   }
  },
  {
   "cell_type": "code",
   "execution_count": 10,
   "outputs": [
    {
     "data": {
      "text/plain": "670"
     },
     "execution_count": 10,
     "metadata": {},
     "output_type": "execute_result"
    }
   ],
   "source": [
    "len(smarts_list)"
   ],
   "metadata": {
    "collapsed": false,
    "ExecuteTime": {
     "end_time": "2023-07-30T09:24:08.042769800Z",
     "start_time": "2023-07-30T09:24:07.982898Z"
    }
   }
  },
  {
   "cell_type": "code",
   "execution_count": 11,
   "outputs": [
    {
     "data": {
      "text/plain": "'N#Cc1nc(O)nc1N'"
     },
     "execution_count": 11,
     "metadata": {},
     "output_type": "execute_result"
    }
   ],
   "source": [
    "smiles_errors[2]"
   ],
   "metadata": {
    "collapsed": false,
    "ExecuteTime": {
     "end_time": "2023-07-30T09:24:08.899087400Z",
     "start_time": "2023-07-30T09:24:08.869746Z"
    }
   }
  },
  {
   "cell_type": "code",
   "execution_count": 12,
   "outputs": [
    {
     "data": {
      "text/plain": "<rdkit.Chem.rdchem.Mol at 0x7f6b0f1f1890>",
      "image/png": "[encoded data removed]"
     },
     "execution_count": 12,
     "metadata": {},
     "output_type": "execute_result"
    }
   ],
   "source": [
    "mol_without_kekulization = rdkit.Chem.MolFromSmiles(smiles_errors[2], sanitize=False)\n",
    "mol_without_kekulization\n"
   ],
   "metadata": {
    "collapsed": false,
    "ExecuteTime": {
     "end_time": "2023-07-30T09:24:09.815182600Z",
     "start_time": "2023-07-30T09:24:09.807472100Z"
    }
   }
  },
  {
   "cell_type": "code",
   "execution_count": 13,
   "outputs": [
    {
     "name": "stdout",
     "output_type": "stream",
     "text": [
      "smiles_without_kekulization:  N#Cc1nc(O)nc1N\n"
     ]
    }
   ],
   "source": [
    " # Convert the non-kekulized molecule to SMILES\n",
    "smiles_without_kekulization = rdkit.Chem.MolToSmiles(mol_without_kekulization)\n",
    "print('smiles_without_kekulization: ', smiles_without_kekulization)"
   ],
   "metadata": {
    "collapsed": false,
    "ExecuteTime": {
     "end_time": "2023-07-30T09:24:11.514873600Z",
     "start_time": "2023-07-30T09:24:11.499059100Z"
    }
   }
  },
  {
   "cell_type": "code",
   "execution_count": 14,
   "outputs": [],
   "source": [
    "def molecule_from_smiles(smiles):\n",
    "    # MolFromSmiles(m, sanitize=True) should be equivalent to\n",
    "    # MolFromSmiles(m, sanitize=False) -> SanitizeMol(m) -> AssignStereochemistry(m, ...)\n",
    "    molecule = Chem.MolFromSmiles(smiles, sanitize=False)\n",
    "\n",
    "    # If sanitization is unsuccessful, catch the error, and try again without\n",
    "    # the sanitization step that caused the error\n",
    "    flag = Chem.SanitizeMol(molecule, catchErrors=True)\n",
    "    if flag != Chem.SanitizeFlags.SANITIZE_NONE:\n",
    "        Chem.SanitizeMol(molecule, sanitizeOps=Chem.SanitizeFlags.SANITIZE_ALL ^ flag)\n",
    "\n",
    "    Chem.AssignStereochemistry(molecule, cleanIt=True, force=True)\n",
    "    return molecule"
   ],
   "metadata": {
    "collapsed": false,
    "ExecuteTime": {
     "end_time": "2023-07-30T09:24:13.408243400Z",
     "start_time": "2023-07-30T09:24:13.352765600Z"
    }
   }
  },
  {
   "cell_type": "code",
   "execution_count": 15,
   "outputs": [
    {
     "name": "stderr",
     "output_type": "stream",
     "text": [
      "[18:24:14] Can't kekulize mol.  Unkekulized atoms: 2 3 4 6 7\n"
     ]
    },
    {
     "data": {
      "text/plain": "<rdkit.Chem.rdchem.Mol at 0x7f6b0f4e7f20>",
      "image/png": "[encoded data removed]"
     },
     "execution_count": 15,
     "metadata": {},
     "output_type": "execute_result"
    }
   ],
   "source": [
    "mol = molecule_from_smiles(smiles_errors[2])\n",
    "mol"
   ],
   "metadata": {
    "collapsed": false,
    "ExecuteTime": {
     "end_time": "2023-07-30T09:24:14.328302300Z",
     "start_time": "2023-07-30T09:24:14.273059900Z"
    }
   }
  },
  {
   "cell_type": "code",
   "execution_count": null,
   "outputs": [],
   "source": [],
   "metadata": {
    "collapsed": false
   }
  },
  {
   "cell_type": "code",
   "execution_count": null,
   "outputs": [],
   "source": [],
   "metadata": {
    "collapsed": false
   }
  },
  {
   "cell_type": "code",
   "execution_count": 16,
   "outputs": [
    {
     "data": {
      "text/plain": "670"
     },
     "execution_count": 16,
     "metadata": {},
     "output_type": "execute_result"
    }
   ],
   "source": [
    "sma_mol = [Chem.MolFromSmarts(i) for i in smarts_list]\n",
    "len(sma_mol)"
   ],
   "metadata": {
    "collapsed": false,
    "ExecuteTime": {
     "end_time": "2023-07-30T09:24:19.470720500Z",
     "start_time": "2023-07-30T09:24:19.463961100Z"
    }
   }
  },
  {
   "cell_type": "code",
   "execution_count": 20,
   "outputs": [
    {
     "data": {
      "text/plain": "[<rdkit.Chem.rdchem.Mol at 0x7f6b0f26b900>,\n <rdkit.Chem.rdchem.Mol at 0x7f6b0f26b970>,\n <rdkit.Chem.rdchem.Mol at 0x7f6b0f26b9e0>,\n <rdkit.Chem.rdchem.Mol at 0x7f6b0f26ba50>,\n <rdkit.Chem.rdchem.Mol at 0x7f6b0f26bac0>,\n <rdkit.Chem.rdchem.Mol at 0x7f6b0f26bb30>,\n <rdkit.Chem.rdchem.Mol at 0x7f6b0f26bba0>,\n <rdkit.Chem.rdchem.Mol at 0x7f6b0f26bc10>,\n <rdkit.Chem.rdchem.Mol at 0x7f6b0f26bc80>,\n <rdkit.Chem.rdchem.Mol at 0x7f6b0f26bcf0>,\n <rdkit.Chem.rdchem.Mol at 0x7f6b0f26bd60>,\n <rdkit.Chem.rdchem.Mol at 0x7f6b0f26bdd0>,\n <rdkit.Chem.rdchem.Mol at 0x7f6b0f26be40>,\n <rdkit.Chem.rdchem.Mol at 0x7f6b0f26beb0>,\n <rdkit.Chem.rdchem.Mol at 0x7f6b0f26bf20>,\n <rdkit.Chem.rdchem.Mol at 0x7f6b0f26bf90>,\n <rdkit.Chem.rdchem.Mol at 0x7f6b0f26e040>,\n <rdkit.Chem.rdchem.Mol at 0x7f6b0f26e0b0>,\n <rdkit.Chem.rdchem.Mol at 0x7f6b0f26e120>,\n <rdkit.Chem.rdchem.Mol at 0x7f6b0f26e190>]"
     },
     "execution_count": 20,
     "metadata": {},
     "output_type": "execute_result"
    }
   ],
   "source": [
    "sma_mol_20 = sma_mol[20:40]\n",
    "sma_mol_20"
   ],
   "metadata": {
    "collapsed": false,
    "ExecuteTime": {
     "end_time": "2023-07-30T09:31:58.837615300Z",
     "start_time": "2023-07-30T09:31:58.793440800Z"
    }
   }
  },
  {
   "cell_type": "code",
   "execution_count": null,
   "outputs": [],
   "source": [
    "from rdkit.Chem.Draw import MolsToGridImage\n",
    "\n",
    "MolsToGridImage(sma_mol_20, molsPerRow=4)"
   ],
   "metadata": {
    "collapsed": false,
    "is_executing": true,
    "ExecuteTime": {
     "start_time": "2023-07-30T09:32:04.904106900Z"
    }
   }
  },
  {
   "cell_type": "code",
   "execution_count": null,
   "outputs": [],
   "source": [],
   "metadata": {
    "collapsed": false
   }
  }
 ],
 "metadata": {
  "kernelspec": {
   "display_name": "PDF",
   "language": "python",
   "name": "pdf"
  },
  "language_info": {
   "codemirror_mode": {
    "name": "ipython",
    "version": 3
   },
   "file_extension": ".py",
   "mimetype": "text/x-python",
   "name": "python",
   "nbconvert_exporter": "python",
   "pygments_lexer": "ipython3",
   "version": "3.8.16"
  }
 },
 "nbformat": 4,
 "nbformat_minor": 1
}
