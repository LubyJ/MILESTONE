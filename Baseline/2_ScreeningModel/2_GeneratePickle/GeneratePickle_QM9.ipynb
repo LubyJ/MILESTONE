{
 "cells": [
  {
   "cell_type": "code",
   "execution_count": 1,
   "id": "95ebdefd",
   "metadata": {},
   "outputs": [],
   "source": [
    "import ast\n",
    "import numpy as np\n",
    "import rdkit\n",
    "from rdkit import Chem\n",
    "from rdkit.Chem import BondType\n",
    "import torch\n",
    "import pandas as pd\n",
    "import pickle"
   ]
  },
  {
   "cell_type": "markdown",
   "id": "d0b6a8af",
   "metadata": {},
   "source": [
    "# 필요한 함수 정의"
   ]
  },
  {
   "cell_type": "markdown",
   "id": "a586f0f0",
   "metadata": {},
   "source": [
    "1. 동적 matrix(adjacency, feature) 생성 함수"
   ]
  },
  {
   "cell_type": "code",
   "execution_count": 2,
   "id": "59f01bf1",
   "metadata": {},
   "outputs": [],
   "source": [
    "def smiles_to_graph(smiles):\n",
    "    molecule = Chem.MolFromSmiles(smiles)\n",
    "    \n",
    "    num_atoms = molecule.GetNumAtoms()\n",
    "    \n",
    "    adjacency = np.zeros((num_atoms, num_atoms), 'int64')\n",
    "    features = np.zeros((num_atoms), 'int64')\n",
    "    \n",
    "    for atom in molecule.GetAtoms():\n",
    "        i = atom.GetIdx()\n",
    "        atom_type = atom_mapping[atom.GetSymbol()]\n",
    "        features[i] = atom_type\n",
    "        \n",
    "        for neighbor in atom.GetNeighbors():\n",
    "            j = neighbor.GetIdx()\n",
    "            bond = molecule.GetBondBetweenAtoms(i, j)\n",
    "            bond_type_idx = bond_mapping[bond.GetBondType().name]\n",
    "            adjacency[[i, j], [j, i]] = bond_type_idx\n",
    "            \n",
    "    adjacency = torch.tensor(adjacency.tolist(), dtype=torch.int8)\n",
    "    features = torch.tensor(features.tolist(), dtype=torch.int8)\n",
    "    \n",
    "    return adjacency, features"
   ]
  },
  {
   "cell_type": "markdown",
   "id": "3bd99d07",
   "metadata": {},
   "source": [
    "2. adjacency, features 정보로 분자 복구하는 함수"
   ]
  },
  {
   "cell_type": "code",
   "execution_count": 3,
   "id": "92a6ca8d",
   "metadata": {},
   "outputs": [],
   "source": [
    "def graph_to_molecule(features, adjacency):\n",
    "    molecule = Chem.RWMol()  # 편집 가능한 빈 molecule 추가\n",
    "    num_atoms = len(features)\n",
    "    atom_index_map = {}\n",
    "    \n",
    "    # 'features' 이용해서 molecule에 atom 추가\n",
    "    for i in range(num_atoms):\n",
    "        atom_type = features[i].item() # Convert tensor to int\n",
    "        atom_symbol = atom_mapping[atom_type]\n",
    "        new_atom_index = molecule.AddAtom(Chem.Atom(atom_symbol))\n",
    "        atom_index_map[i] = new_atom_index\n",
    "\n",
    "    # 'adjacency' 이용해서 molecule에 bond 추가\n",
    "    for i in range(num_atoms):\n",
    "        for j in range(i + 1, num_atoms):\n",
    "            bond_type_idx = adjacency[i, j].item()  # Convert tensor to int\n",
    "\n",
    "            if bond_type_idx == 0:\n",
    "                continue\n",
    "\n",
    "            bond_type = bond_mapping[bond_type_idx]\n",
    "\n",
    "            new_i = atom_index_map[i]\n",
    "            new_j = atom_index_map[j]\n",
    "\n",
    "            if bond_type != 0:\n",
    "                molecule.AddBond(new_i, new_j, bond_type)\n",
    "\n",
    "    return molecule"
   ]
  },
  {
   "cell_type": "markdown",
   "id": "b4b734f1",
   "metadata": {},
   "source": [
    "3. df 받아서 list of dict 생성<br>\n",
    "\n",
    "!!! 추출하고자 하는 속성명 df 내 컬럼명과 동일하게 바꾸기 !!!"
   ]
  },
  {
   "cell_type": "code",
   "execution_count": 4,
   "id": "c7644354",
   "metadata": {},
   "outputs": [],
   "source": [
    "def generate_pickle(df):\n",
    "    mol_list = []\n",
    "    for index, row in df.iterrows():\n",
    "        smiles = row['smiles']\n",
    "        homo = row['homo']     ### 꼭 맞춰서 바꾸기!!!!!!###\n",
    "\n",
    "        adjacency, features = smiles_to_graph(smiles)\n",
    "\n",
    "        molecule_dict = {\n",
    "            'num_atom' : adjacency.shape[0],\n",
    "            'atom_type' : torch.tensor(features, dtype=torch.int8),\n",
    "            'bond_type' : torch.tensor(adjacency, dtype=torch.int8),\n",
    "            'homo' : torch.tensor([homo], dtype=torch.float32) ### 꼭 맞춰서 바꾸기!!!!!!###\n",
    "        }\n",
    "\n",
    "        mol_list.append(molecule_dict)\n",
    "        \n",
    "    return mol_list"
   ]
  },
  {
   "cell_type": "markdown",
   "id": "1222b578",
   "metadata": {},
   "source": [
    "# Data load"
   ]
  },
  {
   "cell_type": "markdown",
   "id": "6aa4b82b",
   "metadata": {},
   "source": [
    "### From QM9"
   ]
  },
  {
   "cell_type": "code",
   "execution_count": 5,
   "id": "da668f6c",
   "metadata": {},
   "outputs": [
    {
     "data": {
      "text/plain": [
       "Index(['num_atoms', 'atomic_symbols', 'pos', 'charges',\n",
       "       'harmonic_oscillator_frequencies', 'smiles', 'inchi', 'A', 'B', 'C',\n",
       "       'mu', 'alpha', 'homo', 'lumo', 'gap', 'r2', 'zpve', 'u0', 'u', 'h', 'g',\n",
       "       'cv'],\n",
       "      dtype='object')"
      ]
     },
     "execution_count": 5,
     "metadata": {},
     "output_type": "execute_result"
    }
   ],
   "source": [
    "data = pd.read_csv('/home/sjang/MILESTONE/1_DatasetForDescriptor/QM9_allfeatures.csv')\n",
    "data.columns"
   ]
  },
  {
   "cell_type": "code",
   "execution_count": 6,
   "id": "f4af90e4",
   "metadata": {},
   "outputs": [
    {
     "data": {
      "text/plain": [
       "Index(['smiles', 'charges', 'homo', 'lumo', 'mu'], dtype='object')"
      ]
     },
     "execution_count": 6,
     "metadata": {},
     "output_type": "execute_result"
    }
   ],
   "source": [
    "df = data[['smiles', 'charges', 'homo', 'lumo', 'mu']]\n",
    "df.columns"
   ]
  },
  {
   "cell_type": "code",
   "execution_count": 7,
   "id": "a70b07ee",
   "metadata": {
    "scrolled": true
   },
   "outputs": [
    {
     "data": {
      "text/html": [
       "<div>\n",
       "<style scoped>\n",
       "    .dataframe tbody tr th:only-of-type {\n",
       "        vertical-align: middle;\n",
       "    }\n",
       "\n",
       "    .dataframe tbody tr th {\n",
       "        vertical-align: top;\n",
       "    }\n",
       "\n",
       "    .dataframe thead th {\n",
       "        text-align: right;\n",
       "    }\n",
       "</style>\n",
       "<table border=\"1\" class=\"dataframe\">\n",
       "  <thead>\n",
       "    <tr style=\"text-align: right;\">\n",
       "      <th></th>\n",
       "      <th>smiles</th>\n",
       "      <th>charges</th>\n",
       "      <th>homo</th>\n",
       "      <th>lumo</th>\n",
       "      <th>mu</th>\n",
       "    </tr>\n",
       "  </thead>\n",
       "  <tbody>\n",
       "    <tr>\n",
       "      <th>0</th>\n",
       "      <td>CCC12CCC(C)C1O2</td>\n",
       "      <td>[-0.379761 -0.27778   0.431848 -0.288567 -0.22...</td>\n",
       "      <td>-0.2497</td>\n",
       "      <td>0.0890</td>\n",
       "      <td>1.7168</td>\n",
       "    </tr>\n",
       "    <tr>\n",
       "      <th>1</th>\n",
       "      <td>CC1NCC2OC2C1=O</td>\n",
       "      <td>[-0.408106 -0.060018 -0.300466 -0.213953  0.06...</td>\n",
       "      <td>-0.2283</td>\n",
       "      <td>-0.0338</td>\n",
       "      <td>3.5647</td>\n",
       "    </tr>\n",
       "    <tr>\n",
       "      <th>2</th>\n",
       "      <td>CCC(O)CC1CC1C</td>\n",
       "      <td>[-0.381135 -0.183739  0.13924  -0.424479 -0.23...</td>\n",
       "      <td>-0.2514</td>\n",
       "      <td>0.0706</td>\n",
       "      <td>1.3788</td>\n",
       "    </tr>\n",
       "  </tbody>\n",
       "</table>\n",
       "</div>"
      ],
      "text/plain": [
       "            smiles                                            charges    homo  \\\n",
       "0  CCC12CCC(C)C1O2  [-0.379761 -0.27778   0.431848 -0.288567 -0.22... -0.2497   \n",
       "1   CC1NCC2OC2C1=O  [-0.408106 -0.060018 -0.300466 -0.213953  0.06... -0.2283   \n",
       "2    CCC(O)CC1CC1C  [-0.381135 -0.183739  0.13924  -0.424479 -0.23... -0.2514   \n",
       "\n",
       "     lumo      mu  \n",
       "0  0.0890  1.7168  \n",
       "1 -0.0338  3.5647  \n",
       "2  0.0706  1.3788  "
      ]
     },
     "execution_count": 7,
     "metadata": {},
     "output_type": "execute_result"
    }
   ],
   "source": [
    "df.head(3)"
   ]
  },
  {
   "cell_type": "markdown",
   "id": "ba8caecb",
   "metadata": {},
   "source": [
    "# bond, atom Dictionary  생성"
   ]
  },
  {
   "cell_type": "code",
   "execution_count": 8,
   "id": "16942a94",
   "metadata": {},
   "outputs": [
    {
     "name": "stdout",
     "output_type": "stream",
     "text": [
      "SMILE_CHARSET:  ['C', 'F', 'H', 'N', 'O']\n"
     ]
    }
   ],
   "source": [
    "# bond_mapping Dictionary 생성\n",
    "bond_mapping = {\"SINGLE\": 1, \"DOUBLE\": 2, \"TRIPLE\": 3, \"AROMATIC\": 4}\n",
    "bond_mapping.update({1:BondType.SINGLE, 2: BondType.DOUBLE, 3: BondType.TRIPLE, 4: BondType.AROMATIC})\n",
    "\n",
    "# 새로운 DF의 'smiles' 컬럼에서 원자 종류 뽑는 과정\n",
    "atom_type = df['smiles'].apply(lambda x: [symbol for symbol in x if symbol.isalpha()]).explode().unique()\n",
    "SMILE_CHARSET = atom_type.tolist()\n",
    "SMILE_CHARSET.sort()\n",
    "print('SMILE_CHARSET: ', SMILE_CHARSET)\n",
    "\n",
    "# atom_mapping_Dictionary 생성\n",
    "SMILE_to_index = dict((c, i) for i, c in enumerate(SMILE_CHARSET))\n",
    "index_to_SMILE = dict((i, c) for i, c in enumerate(SMILE_CHARSET))\n",
    "atom_mapping = dict(SMILE_to_index)\n",
    "atom_mapping.update(index_to_SMILE)"
   ]
  },
  {
   "cell_type": "markdown",
   "id": "d66aa978",
   "metadata": {},
   "source": [
    "# Train, Val, Test 분리"
   ]
  },
  {
   "cell_type": "code",
   "execution_count": 9,
   "id": "2582a904",
   "metadata": {},
   "outputs": [
    {
     "name": "stdout",
     "output_type": "stream",
     "text": [
      "Train set size: 120496\n",
      "Validation set size: 9372\n",
      "Test set size: 4017\n"
     ]
    }
   ],
   "source": [
    "from sklearn.model_selection import train_test_split\n",
    "\n",
    "shuffled_indices = df.sample(frac=1, random_state=100).index\n",
    "shuffled_df = df.sample(frac=1, random_state=100)\n",
    "\n",
    "train_ratio = 0.9\n",
    "val_ratio = 0.07\n",
    "test_ratio = 0.03\n",
    "\n",
    "# train, val, test indices 분리\n",
    "train_indices, val_test_indices = train_test_split(shuffled_indices, \n",
    "                                                   train_size=train_ratio, \n",
    "                                                   test_size=val_ratio+test_ratio, \n",
    "                                                   random_state=100)\n",
    "val_indices, test_indices = train_test_split(val_test_indices, \n",
    "                                             train_size=val_ratio/(val_ratio+test_ratio), \n",
    "                                             test_size=test_ratio/(val_ratio+test_ratio), \n",
    "                                             random_state=100)\n",
    "\n",
    "train_index = [train_indices]\n",
    "val_index = [val_indices]\n",
    "test_index = [test_indices]\n",
    "\n",
    "# train, val, test data 분리\n",
    "train_data = df.loc[train_indices]\n",
    "val_data = df.loc[val_indices]\n",
    "test_data = df.loc[test_indices]\n",
    "\n",
    "print(\"Train set size:\", len(train_data))\n",
    "print(\"Validation set size:\", len(val_data))\n",
    "print(\"Test set size:\", len(test_data))"
   ]
  },
  {
   "cell_type": "code",
   "execution_count": 10,
   "id": "cf4cd663",
   "metadata": {},
   "outputs": [
    {
     "name": "stdout",
     "output_type": "stream",
     "text": [
      "Train indices length: 1\n",
      "Validation indices length: 1\n",
      "Test indices length: 1\n",
      "--------------------------------------------------\n",
      "train_index[0] length: 120496\n",
      "val_index[0] length: 9372\n",
      "test_index[0] length: 4017\n"
     ]
    }
   ],
   "source": [
    "print(\"Train indices length:\", len(train_index))\n",
    "print(\"Validation indices length:\", len(val_index))\n",
    "print(\"Test indices length:\", len(test_index))\n",
    "print('-'*50)\n",
    "print(\"train_index[0] length:\", len(train_index[0]))\n",
    "print(\"val_index[0] length:\", len(val_index[0]))\n",
    "print(\"test_index[0] length:\", len(test_index[0]))"
   ]
  },
  {
   "cell_type": "markdown",
   "id": "511cf10e",
   "metadata": {},
   "source": [
    "# 각 데이터셋으로 Dict 생성"
   ]
  },
  {
   "cell_type": "code",
   "execution_count": 11,
   "id": "ec327039",
   "metadata": {
    "scrolled": true
   },
   "outputs": [
    {
     "name": "stdout",
     "output_type": "stream",
     "text": [
      "Generating train_list_of_dict...\n"
     ]
    },
    {
     "name": "stderr",
     "output_type": "stream",
     "text": [
      "/tmp/ipykernel_19854/748307855.py:11: UserWarning: To copy construct from a tensor, it is recommended to use sourceTensor.clone().detach() or sourceTensor.clone().detach().requires_grad_(True), rather than torch.tensor(sourceTensor).\n",
      "  'atom_type' : torch.tensor(features, dtype=torch.int8),\n",
      "/tmp/ipykernel_19854/748307855.py:12: UserWarning: To copy construct from a tensor, it is recommended to use sourceTensor.clone().detach() or sourceTensor.clone().detach().requires_grad_(True), rather than torch.tensor(sourceTensor).\n",
      "  'bond_type' : torch.tensor(adjacency, dtype=torch.int8),\n"
     ]
    },
    {
     "name": "stdout",
     "output_type": "stream",
     "text": [
      "train_list_of_dict generated\n",
      "Generating val_list_of_dict...\n",
      "val_list_of_dict generated\n",
      "Generating test_list_of_dict...\n",
      "test_list_of_dict generated\n"
     ]
    }
   ],
   "source": [
    "print('Generating train_list_of_dict...')\n",
    "train_list_of_dict = generate_pickle(train_data)\n",
    "print('train_list_of_dict generated')\n",
    "print('Generating val_list_of_dict...')\n",
    "val_list_of_dict = generate_pickle(val_data)\n",
    "print('val_list_of_dict generated')\n",
    "print('Generating test_list_of_dict...')\n",
    "test_list_of_dict = generate_pickle(test_data)\n",
    "print('test_list_of_dict generated')"
   ]
  },
  {
   "cell_type": "markdown",
   "id": "e520daa4",
   "metadata": {},
   "source": [
    "# index, pickle 저장"
   ]
  },
  {
   "cell_type": "markdown",
   "id": "fd85b80d",
   "metadata": {},
   "source": [
    "!!! 경로 수정 !!!"
   ]
  },
  {
   "cell_type": "code",
   "execution_count": 12,
   "id": "945d5b9a",
   "metadata": {},
   "outputs": [],
   "source": [
    "# Define the file paths for saving the data and indices\n",
    "file_path = \"/home/sjang/MILESTONE/2_GeneratePickles/1_homo/\"\n",
    "train_index_path = file_path + \"train.index\"\n",
    "val_index_path = file_path + \"val.index\"\n",
    "test_index_path = file_path + \"test.index\"\n",
    "train_data_path = file_path + \"train.pickle\"\n",
    "val_data_path = file_path + \"val.pickle\"\n",
    "test_data_path = file_path + \"test.pickle\"\n",
    "\n",
    "# Save the train, validation, and test indices as separate .INDEX files\n",
    "np.savetxt(train_index_path, train_index, delimiter=',', fmt='%d')\n",
    "np.savetxt(val_index_path, val_index, delimiter=',', fmt='%d')\n",
    "np.savetxt(test_index_path, test_index, delimiter=',', fmt='%d')\n",
    "\n",
    "# Save train data\n",
    "with open(train_data_path, 'wb') as f:\n",
    "    pickle.dump(train_list_of_dict, f)\n",
    "\n",
    "# Save validation data\n",
    "with open(val_data_path, 'wb') as f:\n",
    "    pickle.dump(val_list_of_dict, f)\n",
    "\n",
    "# Save test data\n",
    "with open(test_data_path, 'wb') as f:\n",
    "    pickle.dump(test_list_of_dict, f)"
   ]
  },
  {
   "cell_type": "code",
   "execution_count": 13,
   "id": "db186979",
   "metadata": {},
   "outputs": [
    {
     "data": {
      "text/html": [
       "<div>\n",
       "<style scoped>\n",
       "    .dataframe tbody tr th:only-of-type {\n",
       "        vertical-align: middle;\n",
       "    }\n",
       "\n",
       "    .dataframe tbody tr th {\n",
       "        vertical-align: top;\n",
       "    }\n",
       "\n",
       "    .dataframe thead th {\n",
       "        text-align: right;\n",
       "    }\n",
       "</style>\n",
       "<table border=\"1\" class=\"dataframe\">\n",
       "  <thead>\n",
       "    <tr style=\"text-align: right;\">\n",
       "      <th></th>\n",
       "      <th>smiles</th>\n",
       "      <th>charges</th>\n",
       "      <th>homo</th>\n",
       "      <th>lumo</th>\n",
       "      <th>mu</th>\n",
       "    </tr>\n",
       "  </thead>\n",
       "  <tbody>\n",
       "    <tr>\n",
       "      <th>87258</th>\n",
       "      <td>CC1(C)C2CC1COC2</td>\n",
       "      <td>[-0.454891  0.35487  -0.475437 -0.069233 -0.24...</td>\n",
       "      <td>-0.2405</td>\n",
       "      <td>0.0780</td>\n",
       "      <td>1.4320</td>\n",
       "    </tr>\n",
       "    <tr>\n",
       "      <th>57910</th>\n",
       "      <td>NC1=CC=CC(=O)N1</td>\n",
       "      <td>[-0.578486  0.457564 -0.255664 -0.026827 -0.27...</td>\n",
       "      <td>-0.1962</td>\n",
       "      <td>-0.0199</td>\n",
       "      <td>5.4369</td>\n",
       "    </tr>\n",
       "    <tr>\n",
       "      <th>10792</th>\n",
       "      <td>CC1C2N1C(C)C2=NO</td>\n",
       "      <td>[-0.428464  0.019683 -0.15804  -0.154306 -0.04...</td>\n",
       "      <td>-0.2270</td>\n",
       "      <td>0.0008</td>\n",
       "      <td>1.0382</td>\n",
       "    </tr>\n",
       "  </tbody>\n",
       "</table>\n",
       "</div>"
      ],
      "text/plain": [
       "                 smiles                                            charges  \\\n",
       "87258   CC1(C)C2CC1COC2  [-0.454891  0.35487  -0.475437 -0.069233 -0.24...   \n",
       "57910   NC1=CC=CC(=O)N1  [-0.578486  0.457564 -0.255664 -0.026827 -0.27...   \n",
       "10792  CC1C2N1C(C)C2=NO  [-0.428464  0.019683 -0.15804  -0.154306 -0.04...   \n",
       "\n",
       "         homo    lumo      mu  \n",
       "87258 -0.2405  0.0780  1.4320  \n",
       "57910 -0.1962 -0.0199  5.4369  \n",
       "10792 -0.2270  0.0008  1.0382  "
      ]
     },
     "execution_count": 13,
     "metadata": {},
     "output_type": "execute_result"
    }
   ],
   "source": [
    "train_data.head(3)"
   ]
  },
  {
   "cell_type": "code",
   "execution_count": 14,
   "id": "5df451fd",
   "metadata": {},
   "outputs": [
    {
     "data": {
      "text/plain": [
       "Index([87258, 57910, 10792], dtype='int64')"
      ]
     },
     "execution_count": 14,
     "metadata": {},
     "output_type": "execute_result"
    }
   ],
   "source": [
    "train_indices[:3]"
   ]
  },
  {
   "cell_type": "code",
   "execution_count": 15,
   "id": "2ac088b8",
   "metadata": {},
   "outputs": [
    {
     "data": {
      "text/plain": [
       "[{'num_atom': 9,\n",
       "  'atom_type': tensor([0, 0, 0, 0, 0, 0, 0, 4, 0], dtype=torch.int8),\n",
       "  'bond_type': tensor([[0, 1, 0, 0, 0, 0, 0, 0, 0],\n",
       "          [1, 0, 1, 1, 0, 1, 0, 0, 0],\n",
       "          [0, 1, 0, 0, 0, 0, 0, 0, 0],\n",
       "          [0, 1, 0, 0, 1, 0, 0, 0, 1],\n",
       "          [0, 0, 0, 1, 0, 1, 0, 0, 0],\n",
       "          [0, 1, 0, 0, 1, 0, 1, 0, 0],\n",
       "          [0, 0, 0, 0, 0, 1, 0, 1, 0],\n",
       "          [0, 0, 0, 0, 0, 0, 1, 0, 1],\n",
       "          [0, 0, 0, 1, 0, 0, 0, 1, 0]], dtype=torch.int8),\n",
       "  'homo': tensor([-0.2405])},\n",
       " {'num_atom': 8,\n",
       "  'atom_type': tensor([3, 0, 0, 0, 0, 0, 4, 3], dtype=torch.int8),\n",
       "  'bond_type': tensor([[0, 1, 0, 0, 0, 0, 0, 0],\n",
       "          [1, 0, 4, 0, 0, 0, 0, 4],\n",
       "          [0, 4, 0, 4, 0, 0, 0, 0],\n",
       "          [0, 0, 4, 0, 4, 0, 0, 0],\n",
       "          [0, 0, 0, 4, 0, 4, 0, 0],\n",
       "          [0, 0, 0, 0, 4, 0, 2, 4],\n",
       "          [0, 0, 0, 0, 0, 2, 0, 0],\n",
       "          [0, 4, 0, 0, 0, 4, 0, 0]], dtype=torch.int8),\n",
       "  'homo': tensor([-0.1962])},\n",
       " {'num_atom': 9,\n",
       "  'atom_type': tensor([0, 0, 0, 3, 0, 0, 0, 3, 4], dtype=torch.int8),\n",
       "  'bond_type': tensor([[0, 1, 0, 0, 0, 0, 0, 0, 0],\n",
       "          [1, 0, 1, 1, 0, 0, 0, 0, 0],\n",
       "          [0, 1, 0, 1, 0, 0, 1, 0, 0],\n",
       "          [0, 1, 1, 0, 1, 0, 0, 0, 0],\n",
       "          [0, 0, 0, 1, 0, 1, 1, 0, 0],\n",
       "          [0, 0, 0, 0, 1, 0, 0, 0, 0],\n",
       "          [0, 0, 1, 0, 1, 0, 0, 2, 0],\n",
       "          [0, 0, 0, 0, 0, 0, 2, 0, 1],\n",
       "          [0, 0, 0, 0, 0, 0, 0, 1, 0]], dtype=torch.int8),\n",
       "  'homo': tensor([-0.2270])}]"
      ]
     },
     "execution_count": 15,
     "metadata": {},
     "output_type": "execute_result"
    }
   ],
   "source": [
    "train_list_of_dict[:3]"
   ]
  },
  {
   "cell_type": "code",
   "execution_count": 15,
   "id": "06df5871",
   "metadata": {},
   "outputs": [],
   "source": [
    "import csv\n",
    "import pickle"
   ]
  },
  {
   "cell_type": "code",
   "execution_count": 17,
   "id": "2899db5e",
   "metadata": {},
   "outputs": [],
   "source": [
    "data_dir = '/home/sjang/MILESTONE/2_GeneratePickles/1_homo'"
   ]
  },
  {
   "cell_type": "code",
   "execution_count": 28,
   "id": "aab63771",
   "metadata": {},
   "outputs": [],
   "source": [
    "with open(data_dir + \"/train.pickle\", \"rb\") as f:\n",
    "    data = pickle.load(f)"
   ]
  },
  {
   "cell_type": "code",
   "execution_count": 29,
   "id": "1dbb4c5c",
   "metadata": {},
   "outputs": [
    {
     "name": "stdout",
     "output_type": "stream",
     "text": [
      "120496\n"
     ]
    }
   ],
   "source": [
    "with open(data_dir + \"/train.index\", \"r\") as f:\n",
    "    data_idx = [list(map(int, idx)) for idx in csv.reader(f)]\n",
    "    data = [data[i] for i in range(len(data_idx[0]))]\n",
    "    print(len(data))"
   ]
  },
  {
   "cell_type": "code",
   "execution_count": null,
   "id": "c25020a6",
   "metadata": {},
   "outputs": [],
   "source": []
  },
  {
   "cell_type": "code",
   "execution_count": 32,
   "id": "43b53b0b",
   "metadata": {},
   "outputs": [
    {
     "data": {
      "text/plain": [
       "57910"
      ]
     },
     "execution_count": 32,
     "metadata": {},
     "output_type": "execute_result"
    }
   ],
   "source": [
    "data_idx[0][1]"
   ]
  },
  {
   "cell_type": "code",
   "execution_count": null,
   "id": "ad3208c4",
   "metadata": {},
   "outputs": [],
   "source": [
    "data_idx[2]"
   ]
  },
  {
   "cell_type": "code",
   "execution_count": null,
   "id": "78059030",
   "metadata": {},
   "outputs": [],
   "source": [
    "len(data_idx)"
   ]
  },
  {
   "cell_type": "code",
   "execution_count": 21,
   "id": "4297d0e7",
   "metadata": {},
   "outputs": [
    {
     "data": {
      "text/plain": [
       "{'num_atom': 9,\n",
       " 'atom_type': tensor([0, 0, 0, 0, 0, 0, 0, 4, 0], dtype=torch.int8),\n",
       " 'bond_type': tensor([[0, 1, 0, 0, 0, 0, 0, 0, 0],\n",
       "         [1, 0, 1, 1, 0, 1, 0, 0, 0],\n",
       "         [0, 1, 0, 0, 0, 0, 0, 0, 0],\n",
       "         [0, 1, 0, 0, 1, 0, 0, 0, 1],\n",
       "         [0, 0, 0, 1, 0, 1, 0, 0, 0],\n",
       "         [0, 1, 0, 0, 1, 0, 1, 0, 0],\n",
       "         [0, 0, 0, 0, 0, 1, 0, 1, 0],\n",
       "         [0, 0, 0, 0, 0, 0, 1, 0, 1],\n",
       "         [0, 0, 0, 1, 0, 0, 0, 1, 0]], dtype=torch.int8),\n",
       " 'homo': tensor([-0.2405])}"
      ]
     },
     "execution_count": 21,
     "metadata": {},
     "output_type": "execute_result"
    }
   ],
   "source": [
    "data[0]"
   ]
  }
 ],
 "metadata": {
  "kernelspec": {
   "display_name": "PDF",
   "language": "python",
   "name": "pdf"
  },
  "language_info": {
   "codemirror_mode": {
    "name": "ipython",
    "version": 3
   },
   "file_extension": ".py",
   "mimetype": "text/x-python",
   "name": "python",
   "nbconvert_exporter": "python",
   "pygments_lexer": "ipython3",
   "version": "3.8.16"
  }
 },
 "nbformat": 4,
 "nbformat_minor": 5
}
