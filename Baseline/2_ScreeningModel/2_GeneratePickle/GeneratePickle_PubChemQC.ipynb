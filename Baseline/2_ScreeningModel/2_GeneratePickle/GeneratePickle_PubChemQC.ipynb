{
 "cells": [
  {
   "cell_type": "code",
   "execution_count": 1,
   "id": "95ebdefd",
   "metadata": {},
   "outputs": [],
   "source": [
    "import ast\n",
    "import numpy as np\n",
    "import rdkit\n",
    "from rdkit import Chem\n",
    "from rdkit.Chem import BondType\n",
    "import torch\n",
    "import pandas as pd\n",
    "import pickle"
   ]
  },
  {
   "cell_type": "markdown",
   "id": "d0b6a8af",
   "metadata": {},
   "source": [
    "# 필요한 함수 정의"
   ]
  },
  {
   "cell_type": "markdown",
   "id": "a586f0f0",
   "metadata": {},
   "source": [
    "1. 동적 matrix(adjacency, feature) 생성 함수"
   ]
  },
  {
   "cell_type": "code",
   "execution_count": 2,
   "id": "59f01bf1",
   "metadata": {},
   "outputs": [],
   "source": [
    "def smiles_to_graph(smiles):\n",
    "    molecule = Chem.MolFromSmiles(smiles)\n",
    "    \n",
    "    num_atoms = molecule.GetNumAtoms()\n",
    "    \n",
    "    adjacency = np.zeros((num_atoms, num_atoms), 'int64')\n",
    "    features = np.zeros((num_atoms), 'int64')\n",
    "    \n",
    "    for atom in molecule.GetAtoms():\n",
    "        i = atom.GetIdx()\n",
    "        atom_type = atom_mapping[atom.GetSymbol()]\n",
    "        features[i] = atom_type\n",
    "        \n",
    "        for neighbor in atom.GetNeighbors():\n",
    "            j = neighbor.GetIdx()\n",
    "            bond = molecule.GetBondBetweenAtoms(i, j)\n",
    "            bond_type_idx = bond_mapping[bond.GetBondType().name]\n",
    "            adjacency[[i, j], [j, i]] = bond_type_idx\n",
    "            \n",
    "    adjacency = torch.tensor(adjacency.tolist(), dtype=torch.int8)\n",
    "    features = torch.tensor(features.tolist(), dtype=torch.int8)\n",
    "    \n",
    "    return adjacency, features"
   ]
  },
  {
   "cell_type": "markdown",
   "id": "3bd99d07",
   "metadata": {},
   "source": [
    "2. adjacency, features 정보로 분자 복구하는 함수"
   ]
  },
  {
   "cell_type": "code",
   "execution_count": 3,
   "id": "92a6ca8d",
   "metadata": {},
   "outputs": [],
   "source": [
    "def graph_to_molecule(features, adjacency):\n",
    "    molecule = Chem.RWMol()  # 편집 가능한 빈 molecule 추가\n",
    "    num_atoms = len(features)\n",
    "    atom_index_map = {}\n",
    "    \n",
    "    # 'features' 이용해서 molecule에 atom 추가\n",
    "    for i in range(num_atoms):\n",
    "        atom_type = features[i].item() # Convert tensor to int\n",
    "        atom_symbol = atom_mapping[atom_type]\n",
    "        new_atom_index = molecule.AddAtom(Chem.Atom(atom_symbol))\n",
    "        atom_index_map[i] = new_atom_index\n",
    "\n",
    "    # 'adjacency' 이용해서 molecule에 bond 추가\n",
    "    for i in range(num_atoms):\n",
    "        for j in range(i + 1, num_atoms):\n",
    "            bond_type_idx = adjacency[i, j].item()  # Convert tensor to int\n",
    "\n",
    "            if bond_type_idx == 0:\n",
    "                continue\n",
    "\n",
    "            bond_type = bond_mapping[bond_type_idx]\n",
    "\n",
    "            new_i = atom_index_map[i]\n",
    "            new_j = atom_index_map[j]\n",
    "\n",
    "            if bond_type != 0:\n",
    "                molecule.AddBond(new_i, new_j, bond_type)\n",
    "\n",
    "    return molecule"
   ]
  },
  {
   "cell_type": "markdown",
   "id": "b4b734f1",
   "metadata": {},
   "source": [
    "3. df 받아서 list of dict 생성<br>\n",
    "\n",
    "!!! 추출하고자 하는 속성명 df 내 컬럼명과 동일하게 바꾸기 !!!"
   ]
  },
  {
   "cell_type": "code",
   "execution_count": 80,
   "id": "c7644354",
   "metadata": {},
   "outputs": [],
   "source": [
    "def generate_pickle(df):\n",
    "    mol_list = []\n",
    "    for index, row in df.iterrows():\n",
    "        smiles = row['Can_SMILES']\n",
    "        mu = row['total_dipole_moment']     ### 꼭 맞춰서 바꾸기!!!!!!###\n",
    "\n",
    "        adjacency, features = smiles_to_graph(smiles)\n",
    "\n",
    "        molecule_dict = {\n",
    "            'num_atom' : adjacency.shape[0],\n",
    "            'atom_type' : torch.tensor(features, dtype=torch.int8),\n",
    "            'bond_type' : torch.tensor(adjacency, dtype=torch.int8),\n",
    "            'mu' : torch.tensor([mu], dtype=torch.float32) ### 꼭 맞춰서 바꾸기!!!!!!###\n",
    "        }\n",
    "\n",
    "        mol_list.append(molecule_dict)\n",
    "        \n",
    "    return mol_list"
   ]
  },
  {
   "cell_type": "markdown",
   "id": "1222b578",
   "metadata": {},
   "source": [
    "# Data load"
   ]
  },
  {
   "cell_type": "markdown",
   "id": "6aa4b82b",
   "metadata": {},
   "source": [
    "### From PubChemQC"
   ]
  },
  {
   "cell_type": "code",
   "execution_count": 45,
   "id": "da668f6c",
   "metadata": {},
   "outputs": [
    {
     "data": {
      "text/plain": [
       "Index(['Unnamed: 0', 'i', 'molecular_formula', 'molecular_weight',\n",
       "       'atom_count', 'heavy_atom_count', 'total_dipole_moment', 'homo', 'lumo',\n",
       "       'gap', 'Isomeric_SMILES', 'Can_SMILES', 'delocal_charged', 'protic_N',\n",
       "       'alcohol', 'thiol', 'PH', 'small_ring'],\n",
       "      dtype='object')"
      ]
     },
     "execution_count": 45,
     "metadata": {},
     "output_type": "execute_result"
    }
   ],
   "source": [
    "data = pd.read_csv('../1_PrepareDataset/PubChemQC_22348.csv')\n",
    "data.columns"
   ]
  },
  {
   "cell_type": "code",
   "execution_count": 46,
   "id": "f4af90e4",
   "metadata": {},
   "outputs": [
    {
     "data": {
      "text/plain": [
       "Index(['Can_SMILES', 'homo', 'lumo', 'total_dipole_moment'], dtype='object')"
      ]
     },
     "execution_count": 46,
     "metadata": {},
     "output_type": "execute_result"
    }
   ],
   "source": [
    "df = data[['Can_SMILES', 'homo', 'lumo', 'total_dipole_moment']]\n",
    "df.columns"
   ]
  },
  {
   "cell_type": "code",
   "execution_count": 47,
   "id": "a70b07ee",
   "metadata": {
    "scrolled": true
   },
   "outputs": [
    {
     "data": {
      "text/html": [
       "<div>\n",
       "<style scoped>\n",
       "    .dataframe tbody tr th:only-of-type {\n",
       "        vertical-align: middle;\n",
       "    }\n",
       "\n",
       "    .dataframe tbody tr th {\n",
       "        vertical-align: top;\n",
       "    }\n",
       "\n",
       "    .dataframe thead th {\n",
       "        text-align: right;\n",
       "    }\n",
       "</style>\n",
       "<table border=\"1\" class=\"dataframe\">\n",
       "  <thead>\n",
       "    <tr style=\"text-align: right;\">\n",
       "      <th></th>\n",
       "      <th>Can_SMILES</th>\n",
       "      <th>homo</th>\n",
       "      <th>lumo</th>\n",
       "      <th>total_dipole_moment</th>\n",
       "    </tr>\n",
       "  </thead>\n",
       "  <tbody>\n",
       "    <tr>\n",
       "      <th>0</th>\n",
       "      <td>C=COCC(C)CCCC(C)CC(C)C</td>\n",
       "      <td>-5.796025</td>\n",
       "      <td>1.028590</td>\n",
       "      <td>1.514198</td>\n",
       "    </tr>\n",
       "    <tr>\n",
       "      <th>1</th>\n",
       "      <td>CC(Cl)(C=O)CCl</td>\n",
       "      <td>-7.621909</td>\n",
       "      <td>-1.542886</td>\n",
       "      <td>1.474742</td>\n",
       "    </tr>\n",
       "    <tr>\n",
       "      <th>2</th>\n",
       "      <td>C=COCCOCCOCC</td>\n",
       "      <td>-5.545680</td>\n",
       "      <td>0.993216</td>\n",
       "      <td>2.921890</td>\n",
       "    </tr>\n",
       "  </tbody>\n",
       "</table>\n",
       "</div>"
      ],
      "text/plain": [
       "               Can_SMILES      homo      lumo  total_dipole_moment\n",
       "0  C=COCC(C)CCCC(C)CC(C)C -5.796025  1.028590             1.514198\n",
       "1          CC(Cl)(C=O)CCl -7.621909 -1.542886             1.474742\n",
       "2            C=COCCOCCOCC -5.545680  0.993216             2.921890"
      ]
     },
     "execution_count": 47,
     "metadata": {},
     "output_type": "execute_result"
    }
   ],
   "source": [
    "df.head(3)"
   ]
  },
  {
   "cell_type": "markdown",
   "id": "ba8caecb",
   "metadata": {},
   "source": [
    "# bond, atom Dictionary  생성"
   ]
  },
  {
   "cell_type": "code",
   "execution_count": 48,
   "id": "16942a94",
   "metadata": {},
   "outputs": [
    {
     "name": "stdout",
     "output_type": "stream",
     "text": [
      "bond_mapping:  {'SINGLE': 1, 'DOUBLE': 2, 'TRIPLE': 3, 'AROMATIC': 4, 1: rdkit.Chem.rdchem.BondType.SINGLE, 2: rdkit.Chem.rdchem.BondType.DOUBLE, 3: rdkit.Chem.rdchem.BondType.TRIPLE, 4: rdkit.Chem.rdchem.BondType.AROMATIC}\n"
     ]
    },
    {
     "name": "stderr",
     "output_type": "stream",
     "text": [
      "[06:31:37] WARNING: not removing hydrogen atom without neighbors\n"
     ]
    },
    {
     "name": "stdout",
     "output_type": "stream",
     "text": [
      "SMILE_CHARSET:  ['C', 'Cl', 'F', 'H', 'N', 'O', 'P', 'S']\n"
     ]
    }
   ],
   "source": [
    "# bond_mapping Dictionary 생성\n",
    "bond_mapping = {\"SINGLE\": 1, \"DOUBLE\": 2, \"TRIPLE\": 3, \"AROMATIC\": 4}\n",
    "bond_mapping.update({1:BondType.SINGLE, 2: BondType.DOUBLE, 3: BondType.TRIPLE, 4: BondType.AROMATIC})\n",
    "print('bond_mapping: ', bond_mapping)\n",
    "\n",
    "# atom_type(SMILES_CHARSET) 생성\n",
    "atom_type = list()\n",
    "\n",
    "for smi in df['Can_SMILES']:\n",
    "    mol = Chem.MolFromSmiles(smi)\n",
    "    for at in mol.GetAtoms():\n",
    "        if at.GetSymbol() not in atom_type:\n",
    "            atom_type.append(at.GetSymbol())\n",
    "            \n",
    "SMILE_CHARSET = atom_type.copy()\n",
    "SMILE_CHARSET.sort()\n",
    "print('SMILE_CHARSET: ', SMILE_CHARSET)"
   ]
  },
  {
   "cell_type": "code",
   "execution_count": 49,
   "id": "6cdce4e1",
   "metadata": {},
   "outputs": [
    {
     "name": "stdout",
     "output_type": "stream",
     "text": [
      "atom_mapping:  {'C': 0, 'Cl': 1, 'F': 2, 'H': 3, 'N': 4, 'O': 5, 'P': 6, 'S': 7, 0: 'C', 1: 'Cl', 2: 'F', 3: 'H', 4: 'N', 5: 'O', 6: 'P', 7: 'S'}\n"
     ]
    }
   ],
   "source": [
    "# atom_mapping_Dictionary 생성\n",
    "SMILE_to_index = dict((c, i) for i, c in enumerate(SMILE_CHARSET))\n",
    "index_to_SMILE = dict((i, c) for i, c in enumerate(SMILE_CHARSET))\n",
    "atom_mapping = dict(SMILE_to_index)\n",
    "atom_mapping.update(index_to_SMILE)\n",
    "print('atom_mapping: ', atom_mapping)"
   ]
  },
  {
   "cell_type": "markdown",
   "id": "d66aa978",
   "metadata": {},
   "source": [
    "# Train, Val, Test 분리"
   ]
  },
  {
   "cell_type": "code",
   "execution_count": 105,
   "id": "2582a904",
   "metadata": {},
   "outputs": [
    {
     "name": "stdout",
     "output_type": "stream",
     "text": [
      "Train set size: 17878\n",
      "Validation set size: 2235\n",
      "Test set size: 2235\n"
     ]
    }
   ],
   "source": [
    "from sklearn.model_selection import train_test_split\n",
    "\n",
    "shuffled_indices = df.sample(frac=1, random_state=100).index\n",
    "shuffled_df = df.sample(frac=1, random_state=100)\n",
    "\n",
    "train_ratio = 0.8\n",
    "val_ratio = 0.1\n",
    "test_ratio = 0.1\n",
    "\n",
    "# train, val, test indices 분리\n",
    "train_indices, val_test_indices = train_test_split(shuffled_indices, \n",
    "                                                   train_size=train_ratio, \n",
    "                                                   test_size=val_ratio+test_ratio, \n",
    "                                                   random_state=100)\n",
    "val_indices, test_indices = train_test_split(val_test_indices, \n",
    "                                             train_size=val_ratio/(val_ratio+test_ratio), \n",
    "                                             test_size=test_ratio/(val_ratio+test_ratio), \n",
    "                                             random_state=100)\n",
    "\n",
    "train_index = [train_indices]\n",
    "val_index = [val_indices]\n",
    "test_index = [test_indices]\n",
    "\n",
    "# train, val, test data 분리\n",
    "train_data = df.loc[train_indices]\n",
    "val_data = df.loc[val_indices]\n",
    "test_data = df.loc[test_indices]\n",
    "\n",
    "print(\"Train set size:\", len(train_data))\n",
    "print(\"Validation set size:\", len(val_data))\n",
    "print(\"Test set size:\", len(test_data))"
   ]
  },
  {
   "cell_type": "code",
   "execution_count": 106,
   "id": "cf4cd663",
   "metadata": {},
   "outputs": [
    {
     "name": "stdout",
     "output_type": "stream",
     "text": [
      "Train indices length: 1\n",
      "Validation indices length: 1\n",
      "Test indices length: 1\n",
      "--------------------------------------------------\n",
      "train_index[0] length: 17878\n",
      "val_index[0] length: 2235\n",
      "test_index[0] length: 2235\n"
     ]
    }
   ],
   "source": [
    "print(\"Train indices length:\", len(train_index))\n",
    "print(\"Validation indices length:\", len(val_index))\n",
    "print(\"Test indices length:\", len(test_index))\n",
    "print('-'*50)\n",
    "print(\"train_index[0] length:\", len(train_index[0]))\n",
    "print(\"val_index[0] length:\", len(val_index[0]))\n",
    "print(\"test_index[0] length:\", len(test_index[0]))"
   ]
  },
  {
   "cell_type": "markdown",
   "id": "511cf10e",
   "metadata": {},
   "source": [
    "# 각 데이터셋으로 Dict 생성"
   ]
  },
  {
   "cell_type": "code",
   "execution_count": 107,
   "id": "ec327039",
   "metadata": {
    "scrolled": true
   },
   "outputs": [
    {
     "name": "stdout",
     "output_type": "stream",
     "text": [
      "Generating train_list_of_dict...\n"
     ]
    },
    {
     "name": "stderr",
     "output_type": "stream",
     "text": [
      "/tmp/ipykernel_1501/2813500230.py:11: UserWarning: To copy construct from a tensor, it is recommended to use sourceTensor.clone().detach() or sourceTensor.clone().detach().requires_grad_(True), rather than torch.tensor(sourceTensor).\n",
      "  'atom_type' : torch.tensor(features, dtype=torch.int8),\n",
      "/tmp/ipykernel_1501/2813500230.py:12: UserWarning: To copy construct from a tensor, it is recommended to use sourceTensor.clone().detach() or sourceTensor.clone().detach().requires_grad_(True), rather than torch.tensor(sourceTensor).\n",
      "  'bond_type' : torch.tensor(adjacency, dtype=torch.int8),\n"
     ]
    },
    {
     "name": "stdout",
     "output_type": "stream",
     "text": [
      "train_list_of_dict generated\n",
      "Generating val_list_of_dict...\n",
      "val_list_of_dict generated\n",
      "Generating test_list_of_dict...\n",
      "test_list_of_dict generated\n"
     ]
    },
    {
     "name": "stderr",
     "output_type": "stream",
     "text": [
      "[06:42:03] WARNING: not removing hydrogen atom without neighbors\n"
     ]
    }
   ],
   "source": [
    "print('Generating train_list_of_dict...')\n",
    "train_list_of_dict = generate_pickle(train_data)\n",
    "print('train_list_of_dict generated')\n",
    "\n",
    "print('Generating val_list_of_dict...')\n",
    "val_list_of_dict = generate_pickle(val_data)\n",
    "print('val_list_of_dict generated')\n",
    "\n",
    "print('Generating test_list_of_dict...')\n",
    "test_list_of_dict = generate_pickle(test_data)\n",
    "print('test_list_of_dict generated')"
   ]
  },
  {
   "cell_type": "markdown",
   "id": "e520daa4",
   "metadata": {},
   "source": [
    "# pickle 저장"
   ]
  },
  {
   "cell_type": "markdown",
   "id": "fd85b80d",
   "metadata": {},
   "source": [
    "!!! 경로, 저장파일명 수정 !!!"
   ]
  },
  {
   "cell_type": "code",
   "execution_count": 108,
   "id": "945d5b9a",
   "metadata": {},
   "outputs": [],
   "source": [
    "# Define the file paths for saving the data and indices\n",
    "file_path = \"../3_PretrainDescriptor/training/pickle_data/3_dipole/\"\n",
    "train_data_path = file_path + \"train.pickle\"\n",
    "val_data_path = file_path + \"val.pickle\"\n",
    "test_data_path = file_path + \"test.pickle\"\n",
    "\n",
    "# Save train data\n",
    "with open(train_data_path, 'wb') as f:\n",
    "    pickle.dump(train_list_of_dict, f)\n",
    "\n",
    "# Save validation data\n",
    "with open(val_data_path, 'wb') as f:\n",
    "    pickle.dump(val_list_of_dict, f)\n",
    "\n",
    "# Save test data\n",
    "with open(test_data_path, 'wb') as f:\n",
    "    pickle.dump(test_list_of_dict, f)"
   ]
  },
  {
   "cell_type": "code",
   "execution_count": 109,
   "id": "db186979",
   "metadata": {},
   "outputs": [
    {
     "data": {
      "text/html": [
       "<div>\n",
       "<style scoped>\n",
       "    .dataframe tbody tr th:only-of-type {\n",
       "        vertical-align: middle;\n",
       "    }\n",
       "\n",
       "    .dataframe tbody tr th {\n",
       "        vertical-align: top;\n",
       "    }\n",
       "\n",
       "    .dataframe thead th {\n",
       "        text-align: right;\n",
       "    }\n",
       "</style>\n",
       "<table border=\"1\" class=\"dataframe\">\n",
       "  <thead>\n",
       "    <tr style=\"text-align: right;\">\n",
       "      <th></th>\n",
       "      <th>Can_SMILES</th>\n",
       "      <th>homo</th>\n",
       "      <th>lumo</th>\n",
       "      <th>total_dipole_moment</th>\n",
       "    </tr>\n",
       "  </thead>\n",
       "  <tbody>\n",
       "    <tr>\n",
       "      <th>8427</th>\n",
       "      <td>O=c1n(Cl)c(=O)n(Cl)c(=O)n1Cl</td>\n",
       "      <td>-8.177021</td>\n",
       "      <td>-2.868080</td>\n",
       "      <td>0.000074</td>\n",
       "    </tr>\n",
       "    <tr>\n",
       "      <th>21953</th>\n",
       "      <td>CC=Nc1nc[nH]c1C#N</td>\n",
       "      <td>-6.408281</td>\n",
       "      <td>-1.545607</td>\n",
       "      <td>4.271928</td>\n",
       "    </tr>\n",
       "    <tr>\n",
       "      <th>20358</th>\n",
       "      <td>CC(=O)CCCn1nnc2c(cnn2C)c1=O</td>\n",
       "      <td>-6.710328</td>\n",
       "      <td>-1.697990</td>\n",
       "      <td>1.894273</td>\n",
       "    </tr>\n",
       "  </tbody>\n",
       "</table>\n",
       "</div>"
      ],
      "text/plain": [
       "                         Can_SMILES      homo      lumo  total_dipole_moment\n",
       "8427   O=c1n(Cl)c(=O)n(Cl)c(=O)n1Cl -8.177021 -2.868080             0.000074\n",
       "21953             CC=Nc1nc[nH]c1C#N -6.408281 -1.545607             4.271928\n",
       "20358   CC(=O)CCCn1nnc2c(cnn2C)c1=O -6.710328 -1.697990             1.894273"
      ]
     },
     "execution_count": 109,
     "metadata": {},
     "output_type": "execute_result"
    }
   ],
   "source": [
    "train_data.head(3)"
   ]
  },
  {
   "cell_type": "code",
   "execution_count": 110,
   "id": "2ac088b8",
   "metadata": {},
   "outputs": [
    {
     "data": {
      "text/plain": [
       "[{'num_atom': 12,\n",
       "  'atom_type': tensor([5, 0, 4, 1, 0, 5, 4, 1, 0, 5, 4, 1], dtype=torch.int8),\n",
       "  'bond_type': tensor([[0, 2, 0, 0, 0, 0, 0, 0, 0, 0, 0, 0],\n",
       "          [2, 0, 4, 0, 0, 0, 0, 0, 0, 0, 4, 0],\n",
       "          [0, 4, 0, 1, 4, 0, 0, 0, 0, 0, 0, 0],\n",
       "          [0, 0, 1, 0, 0, 0, 0, 0, 0, 0, 0, 0],\n",
       "          [0, 0, 4, 0, 0, 2, 4, 0, 0, 0, 0, 0],\n",
       "          [0, 0, 0, 0, 2, 0, 0, 0, 0, 0, 0, 0],\n",
       "          [0, 0, 0, 0, 4, 0, 0, 1, 4, 0, 0, 0],\n",
       "          [0, 0, 0, 0, 0, 0, 1, 0, 0, 0, 0, 0],\n",
       "          [0, 0, 0, 0, 0, 0, 4, 0, 0, 2, 4, 0],\n",
       "          [0, 0, 0, 0, 0, 0, 0, 0, 2, 0, 0, 0],\n",
       "          [0, 4, 0, 0, 0, 0, 0, 0, 4, 0, 0, 1],\n",
       "          [0, 0, 0, 0, 0, 0, 0, 0, 0, 0, 1, 0]], dtype=torch.int8),\n",
       "  'mu': tensor([7.3580e-05])},\n",
       " {'num_atom': 10,\n",
       "  'atom_type': tensor([0, 0, 4, 0, 4, 0, 4, 0, 0, 4], dtype=torch.int8),\n",
       "  'bond_type': tensor([[0, 1, 0, 0, 0, 0, 0, 0, 0, 0],\n",
       "          [1, 0, 2, 0, 0, 0, 0, 0, 0, 0],\n",
       "          [0, 2, 0, 1, 0, 0, 0, 0, 0, 0],\n",
       "          [0, 0, 1, 0, 4, 0, 0, 4, 0, 0],\n",
       "          [0, 0, 0, 4, 0, 4, 0, 0, 0, 0],\n",
       "          [0, 0, 0, 0, 4, 0, 4, 0, 0, 0],\n",
       "          [0, 0, 0, 0, 0, 4, 0, 4, 0, 0],\n",
       "          [0, 0, 0, 4, 0, 0, 4, 0, 1, 0],\n",
       "          [0, 0, 0, 0, 0, 0, 0, 1, 0, 3],\n",
       "          [0, 0, 0, 0, 0, 0, 0, 0, 3, 0]], dtype=torch.int8),\n",
       "  'mu': tensor([4.2719])},\n",
       " {'num_atom': 17,\n",
       "  'atom_type': tensor([0, 0, 5, 0, 0, 0, 4, 4, 4, 0, 0, 0, 4, 4, 0, 0, 5], dtype=torch.int8),\n",
       "  'bond_type': tensor([[0, 1, 0, 0, 0, 0, 0, 0, 0, 0, 0, 0, 0, 0, 0, 0, 0],\n",
       "          [1, 0, 2, 1, 0, 0, 0, 0, 0, 0, 0, 0, 0, 0, 0, 0, 0],\n",
       "          [0, 2, 0, 0, 0, 0, 0, 0, 0, 0, 0, 0, 0, 0, 0, 0, 0],\n",
       "          [0, 1, 0, 0, 1, 0, 0, 0, 0, 0, 0, 0, 0, 0, 0, 0, 0],\n",
       "          [0, 0, 0, 1, 0, 1, 0, 0, 0, 0, 0, 0, 0, 0, 0, 0, 0],\n",
       "          [0, 0, 0, 0, 1, 0, 1, 0, 0, 0, 0, 0, 0, 0, 0, 0, 0],\n",
       "          [0, 0, 0, 0, 0, 1, 0, 4, 0, 0, 0, 0, 0, 0, 0, 4, 0],\n",
       "          [0, 0, 0, 0, 0, 0, 4, 0, 4, 0, 0, 0, 0, 0, 0, 0, 0],\n",
       "          [0, 0, 0, 0, 0, 0, 0, 4, 0, 4, 0, 0, 0, 0, 0, 0, 0],\n",
       "          [0, 0, 0, 0, 0, 0, 0, 0, 4, 0, 4, 0, 0, 4, 0, 0, 0],\n",
       "          [0, 0, 0, 0, 0, 0, 0, 0, 0, 4, 0, 4, 0, 0, 0, 4, 0],\n",
       "          [0, 0, 0, 0, 0, 0, 0, 0, 0, 0, 4, 0, 4, 0, 0, 0, 0],\n",
       "          [0, 0, 0, 0, 0, 0, 0, 0, 0, 0, 0, 4, 0, 4, 0, 0, 0],\n",
       "          [0, 0, 0, 0, 0, 0, 0, 0, 0, 4, 0, 0, 4, 0, 1, 0, 0],\n",
       "          [0, 0, 0, 0, 0, 0, 0, 0, 0, 0, 0, 0, 0, 1, 0, 0, 0],\n",
       "          [0, 0, 0, 0, 0, 0, 4, 0, 0, 0, 4, 0, 0, 0, 0, 0, 2],\n",
       "          [0, 0, 0, 0, 0, 0, 0, 0, 0, 0, 0, 0, 0, 0, 0, 2, 0]], dtype=torch.int8),\n",
       "  'mu': tensor([1.8943])}]"
      ]
     },
     "execution_count": 110,
     "metadata": {},
     "output_type": "execute_result"
    }
   ],
   "source": [
    "train_list_of_dict[:3]"
   ]
  }
 ],
 "metadata": {
  "kernelspec": {
   "display_name": "PDF",
   "language": "python",
   "name": "pdf"
  },
  "language_info": {
   "codemirror_mode": {
    "name": "ipython",
    "version": 3
   },
   "file_extension": ".py",
   "mimetype": "text/x-python",
   "name": "python",
   "nbconvert_exporter": "python",
   "pygments_lexer": "ipython3",
   "version": "3.8.16"
  }
 },
 "nbformat": 4,
 "nbformat_minor": 5
}
