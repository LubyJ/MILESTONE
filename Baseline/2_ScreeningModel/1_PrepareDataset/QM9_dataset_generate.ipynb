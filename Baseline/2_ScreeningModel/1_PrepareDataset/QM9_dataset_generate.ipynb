{
 "cells": [
  {
   "cell_type": "code",
   "execution_count": 1,
   "id": "3941f775",
   "metadata": {},
   "outputs": [],
   "source": [
    "import rdkit"
   ]
  },
  {
   "cell_type": "code",
   "execution_count": 2,
   "id": "4cf2b46f",
   "metadata": {},
   "outputs": [],
   "source": [
    "from rdkit import Chem"
   ]
  },
  {
   "cell_type": "markdown",
   "id": "8cf8640f",
   "metadata": {},
   "source": [
    "| Target | Property | Description                        | Unit    |\n",
    "|--------|----------|------------------------------------|---------|\n",
    "| 0      | mu       | Dipole moment                      | D       |\n",
    "| 1      | alpha    | Isotropic polarizability           | (a_0)^3 |\n",
    "| 2      | HOMO     | HOMO                               | eV      |\n",
    "| 3      | LUMO     | LUMO                               | eV      |\n",
    "| 4      | gap      | Gap between HOMO-LUMO              | eV      |\n",
    "| 5      | r2       | Electronic spatial extent          | (a_0)^2 |\n",
    "| 6      | ZPVE     | Zero point vibrational energy      | eV      |\n",
    "| 7      | u0       | Internal energy at 0K              | eV      |\n",
    "| 8      | u        | Internal energy at 298.15K         | eV      |\n",
    "| 9      | h        | Enthalpy at 298.15K                | eV      |\n",
    "| 10     | g        | Free energy at 298.15K             | eV      |\n",
    "| 11     | cv       | Heat capacity at 298.15K           | mol K   |\n",
    "| 12     | u0_atom  | Atomization energy at 0K           | eV      |\n",
    "| 13     | u_atom   | Atomization energy at 298.15K      | eV      |\n",
    "| 14     | h_atom   | Atomization enthalpy at 298.15K    | eV      |\n",
    "| 15     | g_atom   | Atomization free energy at 298.15K | eV      |\n",
    "| 16     | A        | Rotational constant                | GHz     |\n",
    "| 17     | B        | Rotational constant                | GHz     |\n",
    "| 18     | C        | Rotational constant                | GHz     |"
   ]
  },
  {
   "cell_type": "markdown",
   "id": "47b6dbe0",
   "metadata": {},
   "source": [
    "### xyz file 하나 불러와서 각 속성 정보 따오는 코드"
   ]
  },
  {
   "cell_type": "code",
   "execution_count": 8,
   "id": "f2a11df9",
   "metadata": {},
   "outputs": [],
   "source": [
    "import numpy as np\n",
    "import torch\n",
    "\n",
    "def parse_float(s: str) -> float:\n",
    "    try:\n",
    "        return float(s)\n",
    "    except ValueError:\n",
    "        base, power = s.split('*^')\n",
    "        return float(base) * 10**float(power)\n",
    "\n",
    "\n",
    "def parse_xyz(filename):\n",
    "    \"\"\"\n",
    "    Parses QM9 specific xyz files. See https://www.nature.com/articles/sdata201422/tables/2 for reference\n",
    "    :param filename: str path to file\n",
    "    :return:\n",
    "    \"\"\"\n",
    "    num_atoms = 0\n",
    "    scalar_properties = []\n",
    "    atomic_symbols = []\n",
    "    xyz = []\n",
    "    charges = []\n",
    "    harmonic_vibrational_frequencies = []\n",
    "    smiles = ''\n",
    "    inchi = ''\n",
    "    with open(filename, 'r') as f:\n",
    "        for line_num, line in enumerate(f):\n",
    "            if line_num == 0:\n",
    "                num_atoms = int(line)\n",
    "            elif line_num == 1:\n",
    "                scalar_properties = [float(i) for i in line.split()[2:]]\n",
    "            elif 2 <= line_num <= 1 + num_atoms:\n",
    "                atom_symbol, x, y, z, charge = line.split()\n",
    "                atomic_symbols.append(atom_symbol)\n",
    "                xyz.append([parse_float(x), parse_float(y), parse_float(z)])\n",
    "                charges.append(parse_float(charge))\n",
    "            elif line_num == num_atoms + 2:\n",
    "                harmonic_vibrational_frequencies = [float(i) for i in line.split()]\n",
    "            elif line_num == num_atoms + 3:\n",
    "                smiles = line.split()[0]\n",
    "            elif line_num == num_atoms + 4:\n",
    "                inchi = line.split()[0]\n",
    "\n",
    "    result = {\n",
    "        'num_atoms': num_atoms,\n",
    "        'atomic_symbols': atomic_symbols,\n",
    "        'pos': torch.tensor(xyz),\n",
    "        'charges': np.array(charges),\n",
    "        'harmonic_oscillator_frequencies': harmonic_vibrational_frequencies,\n",
    "        'smiles': smiles,\n",
    "        'inchi': inchi\n",
    "    }\n",
    "    scalar_property_labels = ['A', 'B', 'C', 'mu', 'alpha', 'homo', 'lumo', 'gap', 'r2', 'zpve', 'u0', 'u', 'h', 'g', 'cv']\n",
    "    scalar_properties = dict(zip(scalar_property_labels, scalar_properties))\n",
    "    result.update(scalar_properties)\n",
    "    return result"
   ]
  },
  {
   "cell_type": "markdown",
   "id": "58fed22b",
   "metadata": {},
   "source": [
    "__파일 하나 테스트 해봄__"
   ]
  },
  {
   "cell_type": "code",
   "execution_count": 10,
   "id": "e21ee22f",
   "metadata": {},
   "outputs": [],
   "source": [
    "fname = 'dsgdb9nsd_000001.xyz'"
   ]
  },
  {
   "cell_type": "code",
   "execution_count": 11,
   "id": "7fb1f916",
   "metadata": {},
   "outputs": [],
   "source": [
    "test = parse_xyz(fname)"
   ]
  },
  {
   "cell_type": "code",
   "execution_count": 12,
   "id": "f0b95a16",
   "metadata": {},
   "outputs": [
    {
     "data": {
      "text/plain": [
       "{'num_atoms': 5,\n",
       " 'atomic_symbols': ['C', 'H', 'H', 'H', 'H'],\n",
       " 'pos': tensor([[-1.2698e-02,  1.0858e+00,  8.0010e-03],\n",
       "         [ 2.1504e-03, -6.0313e-03,  1.9761e-03],\n",
       "         [ 1.0117e+00,  1.4638e+00,  2.7657e-04],\n",
       "         [-5.4082e-01,  1.4475e+00, -8.7664e-01],\n",
       "         [-5.2381e-01,  1.4379e+00,  9.0640e-01]]),\n",
       " 'charges': array([-0.535689,  0.133921,  0.133922,  0.133923,  0.133923]),\n",
       " 'harmonic_oscillator_frequencies': [1341.307,\n",
       "  1341.3284,\n",
       "  1341.365,\n",
       "  1562.6731,\n",
       "  1562.7453,\n",
       "  3038.3205,\n",
       "  3151.6034,\n",
       "  3151.6788,\n",
       "  3151.7078],\n",
       " 'smiles': 'C',\n",
       " 'inchi': 'InChI=1S/CH4/h1H4',\n",
       " 'A': 157.7118,\n",
       " 'B': 157.70997,\n",
       " 'C': 157.70699,\n",
       " 'mu': 0.0,\n",
       " 'alpha': 13.21,\n",
       " 'homo': -0.3877,\n",
       " 'lumo': 0.1171,\n",
       " 'gap': 0.5048,\n",
       " 'r2': 35.3641,\n",
       " 'zpve': 0.044749,\n",
       " 'u0': -40.47893,\n",
       " 'u': -40.476062,\n",
       " 'h': -40.475117,\n",
       " 'g': -40.498597,\n",
       " 'cv': 6.469}"
      ]
     },
     "execution_count": 12,
     "metadata": {},
     "output_type": "execute_result"
    }
   ],
   "source": [
    "test"
   ]
  },
  {
   "cell_type": "markdown",
   "id": "a6a92900",
   "metadata": {},
   "source": [
    "### 폴더 내의 모든 xyz 파일 불러와서 dataframe으로 저장하는 코드"
   ]
  },
  {
   "cell_type": "code",
   "execution_count": 13,
   "id": "e97f13e1",
   "metadata": {
    "collapsed": true
   },
   "outputs": [
    {
     "name": "stdout",
     "output_type": "stream",
     "text": [
      "        num_atoms                                     atomic_symbols  \\\n",
      "0              23  [C, C, C, C, C, C, C, C, O, H, H, H, H, H, H, ...   \n",
      "1              18  [C, C, N, C, C, O, C, C, O, H, H, H, H, H, H, ...   \n",
      "2              25  [C, C, C, O, C, C, C, C, C, H, H, H, H, H, H, ...   \n",
      "3              15      [O, C, C, O, C, C, C, O, C, H, H, H, H, H, H]   \n",
      "4              18  [N, C, O, C, C, C, C, O, C, H, H, H, H, H, H, ...   \n",
      "...           ...                                                ...   \n",
      "133880         17  [C, C, C, O, C, N, C, C, H, H, H, H, H, H, H, ...   \n",
      "133881         14         [O, C, C, O, C, O, H, H, H, H, H, H, H, H]   \n",
      "133882         18  [C, C, C, C, C, C, C, C, N, H, H, H, H, H, H, ...   \n",
      "133883         18  [C, N, C, C, C, O, N, C, N, H, H, H, H, H, H, ...   \n",
      "133884         22  [C, C, C, C, C, C, O, N, C, H, H, H, H, H, H, ...   \n",
      "\n",
      "                                                      pos  \\\n",
      "0       [[tensor(-0.0051), tensor(1.4588), tensor(-0.4...   \n",
      "1       [[tensor(0.0803), tensor(1.5585), tensor(-0.02...   \n",
      "2       [[tensor(-0.0096), tensor(1.5943), tensor(-0.2...   \n",
      "3       [[tensor(-0.0469), tensor(1.3793), tensor(0.10...   \n",
      "4       [[tensor(-0.1242), tensor(1.2912), tensor(0.26...   \n",
      "...                                                   ...   \n",
      "133880  [[tensor(-0.0844), tensor(1.5575), tensor(0.05...   \n",
      "133881  [[tensor(0.0534), tensor(1.3855), tensor(-0.04...   \n",
      "133882  [[tensor(-0.1482), tensor(-1.2715), tensor(-0....   \n",
      "133883  [[tensor(-0.0489), tensor(1.5550), tensor(0.51...   \n",
      "133884  [[tensor(0.0011), tensor(1.5460), tensor(0.643...   \n",
      "\n",
      "                                                  charges  \\\n",
      "0       [-0.379761, -0.27778, 0.431848, -0.288567, -0....   \n",
      "1       [-0.408106, -0.060018, -0.300466, -0.213953, 0...   \n",
      "2       [-0.381135, -0.183739, 0.13924, -0.424479, -0....   \n",
      "3       [-0.473524, 0.393578, -0.076026, -0.252793, 0....   \n",
      "4       [-0.525277, 0.418191, -0.362221, -0.342799, 0....   \n",
      "...                                                   ...   \n",
      "133880  [-0.385066, -0.182061, 0.066759, -0.227244, 0....   \n",
      "133881  [-0.420306, -0.066445, 0.071015, -0.446614, -0...   \n",
      "133882  [-0.430949, 0.310504, -0.188995, -0.039897, -0...   \n",
      "133883  [-0.331686, -0.175241, -0.348414, 0.118376, 0....   \n",
      "133884  [-0.413702, -0.015179, 0.000464, -0.263948, 0....   \n",
      "\n",
      "                          harmonic_oscillator_frequencies              smiles  \\\n",
      "0       [66.9522, 120.0611, 163.7679, 193.1266, 227.90...     CCC12CCC(C)C1O2   \n",
      "1       [58.2753, 171.1712, 218.769, 279.0711, 286.196...      CC1NCC2OC2C1=O   \n",
      "2       [28.5567, 70.3194, 99.2164, 122.2862, 176.4237...       CCC(O)CC1CC1C   \n",
      "3       [179.447, 259.3227, 285.7826, 326.864, 419.814...   OC12C3OC3C3C1OC23   \n",
      "4       [18.4787, 69.3435, 87.5709, 122.1768, 195.826,...    NC(=O)CC1CC2OC12   \n",
      "...                                                   ...                 ...   \n",
      "133880  [95.4351, 120.6023, 176.2623, 232.6428, 298.82...      CCC1OC(=N)C=C1   \n",
      "133881  [121.6692, 144.9866, 190.6738, 303.8647, 376.8...            OCC(O)CO   \n",
      "133882  [118.0773, 177.271, 331.6064, 354.8852, 425.93...  C#CC1C2C3CC(C3)N12   \n",
      "133883  [68.9895, 162.1911, 178.8699, 255.6761, 271.76...     CN(C)C1=CON=C1N   \n",
      "133884  [50.8751, 84.2568, 121.7136, 149.7429, 164.954...     CC1C(CC2CO2)N1C   \n",
      "\n",
      "                                                    inchi        A        B  \\\n",
      "0       InChI=1S/C8H14O/c1-3-8-5-4-6(2)7(8)9-8/h6-7H,3...  3.74323  1.06884   \n",
      "1       InChI=1S/C6H9NO2/c1-3-5(8)6-4(9-6)2-7-3/h3-4,6...  2.47471  1.70917   \n",
      "2       InChI=1S/C8H16O/c1-3-8(9)5-7-4-6(7)2/h6-9H,3-5...  3.82795  0.70743   \n",
      "3       InChI=1S/C6H6O3/c7-6-3-1(4(6)9-3)2-5(6)8-2/h1-...  2.98661  2.03567   \n",
      "4       InChI=1S/C6H9NO2/c7-5(8)2-3-1-4-6(3)9-4/h3-4,6...  4.07673  0.94691   \n",
      "...                                                   ...      ...      ...   \n",
      "133880  InChI=1S/C6H9NO/c1-2-5-3-4-6(7)8-5/h3-5,7H,2H2...  4.15226  1.51002   \n",
      "133881           InChI=1S/C3H8O3/c4-1-3(6)2-5/h3-6H,1-2H2  8.07928  1.98190   \n",
      "133882  InChI=1S/C8H9N/c1-2-7-8-5-3-6(4-5)9(7)8/h1,5-8...  3.73317  1.43548   \n",
      "133883  InChI=1S/C5H9N3O/c1-8(2)4-3-9-7-5(4)6/h3H,1-2H...  2.63555  1.44363   \n",
      "133884  InChI=1S/C7H13NO/c1-5-7(8(5)2)3-6-4-9-6/h5-7H,...  3.14199  0.98379   \n",
      "\n",
      "              C  ...    homo    lumo     gap         r2      zpve          u0  \\\n",
      "0       0.95108  ... -0.2497  0.0890  0.3387  1366.2183  0.205771 -388.306749   \n",
      "1       1.17282  ... -0.2283 -0.0338  0.1945  1068.0549  0.148179 -439.080379   \n",
      "2       0.64572  ... -0.2514  0.0706  0.3220  1868.1448  0.226745 -389.486207   \n",
      "3       1.50302  ... -0.2363  0.0564  0.2927   850.8027  0.112226 -457.653164   \n",
      "4       0.86798  ... -0.2461  0.0328  0.2789  1338.7366  0.146610 -439.079843   \n",
      "...         ...  ...     ...     ...     ...        ...       ...         ...   \n",
      "133880  1.18298  ... -0.2428 -0.0319  0.2109  1029.2401  0.142993 -363.892007   \n",
      "133881  1.70664  ... -0.2606  0.0490  0.3096   694.4975  0.118969 -344.689237   \n",
      "133882  1.30068  ... -0.2245  0.0281  0.2526  1016.3049  0.149447 -364.711149   \n",
      "133883  1.01552  ... -0.2073  0.0109  0.2181  1179.2321  0.148261 -435.243132   \n",
      "133884  0.89154  ... -0.2107  0.0842  0.2949  1416.6614  0.192434 -404.290572   \n",
      "\n",
      "                 u           h           g      cv  \n",
      "0      -388.297374 -388.296430 -388.340757  35.962  \n",
      "1      -439.072340 -439.071396 -439.113109  30.793  \n",
      "2      -389.474935 -389.473990 -389.523555  41.038  \n",
      "3      -457.646643 -457.645699 -457.683748  26.709  \n",
      "4      -439.070770 -439.069826 -439.115743  32.478  \n",
      "...            ...         ...         ...     ...  \n",
      "133880 -363.884426 -363.883482 -363.924082  28.334  \n",
      "133881 -344.682195 -344.681251 -344.719856  25.116  \n",
      "133882 -364.704193 -364.703249 -364.742240  29.107  \n",
      "133883 -435.234333 -435.233389 -435.276481  33.042  \n",
      "133884 -404.280563 -404.279619 -404.326074  36.353  \n",
      "\n",
      "[133885 rows x 22 columns]\n"
     ]
    }
   ],
   "source": [
    "import pandas as pd\n",
    "import os\n",
    "\n",
    "# Set the path to the folder containing the XYZ files\n",
    "folder_path = './'\n",
    "\n",
    "# Get the list of XYZ files in the folder\n",
    "xyz_files = [file for file in os.listdir(folder_path) if file.endswith('.xyz')]\n",
    "\n",
    "# Create an empty list to store the results\n",
    "results = []\n",
    "\n",
    "# Iterate over the XYZ files\n",
    "for file in xyz_files:\n",
    "    file_path = os.path.join(folder_path, file)\n",
    "    \n",
    "    # Call the parse_xyz function to extract the information from the file\n",
    "    result = parse_xyz(file_path)\n",
    "    \n",
    "    # Append the result to the list of results\n",
    "    results.append(result)\n",
    "\n",
    "# Convert the list of results to a DataFrame\n",
    "df = pd.DataFrame(results)\n",
    "\n",
    "# Print the DataFrame\n",
    "print(df)"
   ]
  },
  {
   "cell_type": "code",
   "execution_count": 14,
   "id": "2bc98d61",
   "metadata": {},
   "outputs": [
    {
     "data": {
      "text/html": [
       "<div>\n",
       "<style scoped>\n",
       "    .dataframe tbody tr th:only-of-type {\n",
       "        vertical-align: middle;\n",
       "    }\n",
       "\n",
       "    .dataframe tbody tr th {\n",
       "        vertical-align: top;\n",
       "    }\n",
       "\n",
       "    .dataframe thead th {\n",
       "        text-align: right;\n",
       "    }\n",
       "</style>\n",
       "<table border=\"1\" class=\"dataframe\">\n",
       "  <thead>\n",
       "    <tr style=\"text-align: right;\">\n",
       "      <th></th>\n",
       "      <th>num_atoms</th>\n",
       "      <th>atomic_symbols</th>\n",
       "      <th>pos</th>\n",
       "      <th>charges</th>\n",
       "      <th>harmonic_oscillator_frequencies</th>\n",
       "      <th>smiles</th>\n",
       "      <th>inchi</th>\n",
       "      <th>A</th>\n",
       "      <th>B</th>\n",
       "      <th>C</th>\n",
       "      <th>...</th>\n",
       "      <th>homo</th>\n",
       "      <th>lumo</th>\n",
       "      <th>gap</th>\n",
       "      <th>r2</th>\n",
       "      <th>zpve</th>\n",
       "      <th>u0</th>\n",
       "      <th>u</th>\n",
       "      <th>h</th>\n",
       "      <th>g</th>\n",
       "      <th>cv</th>\n",
       "    </tr>\n",
       "  </thead>\n",
       "  <tbody>\n",
       "    <tr>\n",
       "      <th>0</th>\n",
       "      <td>23</td>\n",
       "      <td>[C, C, C, C, C, C, C, C, O, H, H, H, H, H, H, ...</td>\n",
       "      <td>[[tensor(-0.0051), tensor(1.4588), tensor(-0.4...</td>\n",
       "      <td>[-0.379761, -0.27778, 0.431848, -0.288567, -0....</td>\n",
       "      <td>[66.9522, 120.0611, 163.7679, 193.1266, 227.90...</td>\n",
       "      <td>CCC12CCC(C)C1O2</td>\n",
       "      <td>InChI=1S/C8H14O/c1-3-8-5-4-6(2)7(8)9-8/h6-7H,3...</td>\n",
       "      <td>3.74323</td>\n",
       "      <td>1.06884</td>\n",
       "      <td>0.95108</td>\n",
       "      <td>...</td>\n",
       "      <td>-0.2497</td>\n",
       "      <td>0.0890</td>\n",
       "      <td>0.3387</td>\n",
       "      <td>1366.2183</td>\n",
       "      <td>0.205771</td>\n",
       "      <td>-388.306749</td>\n",
       "      <td>-388.297374</td>\n",
       "      <td>-388.296430</td>\n",
       "      <td>-388.340757</td>\n",
       "      <td>35.962</td>\n",
       "    </tr>\n",
       "    <tr>\n",
       "      <th>1</th>\n",
       "      <td>18</td>\n",
       "      <td>[C, C, N, C, C, O, C, C, O, H, H, H, H, H, H, ...</td>\n",
       "      <td>[[tensor(0.0803), tensor(1.5585), tensor(-0.02...</td>\n",
       "      <td>[-0.408106, -0.060018, -0.300466, -0.213953, 0...</td>\n",
       "      <td>[58.2753, 171.1712, 218.769, 279.0711, 286.196...</td>\n",
       "      <td>CC1NCC2OC2C1=O</td>\n",
       "      <td>InChI=1S/C6H9NO2/c1-3-5(8)6-4(9-6)2-7-3/h3-4,6...</td>\n",
       "      <td>2.47471</td>\n",
       "      <td>1.70917</td>\n",
       "      <td>1.17282</td>\n",
       "      <td>...</td>\n",
       "      <td>-0.2283</td>\n",
       "      <td>-0.0338</td>\n",
       "      <td>0.1945</td>\n",
       "      <td>1068.0549</td>\n",
       "      <td>0.148179</td>\n",
       "      <td>-439.080379</td>\n",
       "      <td>-439.072340</td>\n",
       "      <td>-439.071396</td>\n",
       "      <td>-439.113109</td>\n",
       "      <td>30.793</td>\n",
       "    </tr>\n",
       "    <tr>\n",
       "      <th>2</th>\n",
       "      <td>25</td>\n",
       "      <td>[C, C, C, O, C, C, C, C, C, H, H, H, H, H, H, ...</td>\n",
       "      <td>[[tensor(-0.0096), tensor(1.5943), tensor(-0.2...</td>\n",
       "      <td>[-0.381135, -0.183739, 0.13924, -0.424479, -0....</td>\n",
       "      <td>[28.5567, 70.3194, 99.2164, 122.2862, 176.4237...</td>\n",
       "      <td>CCC(O)CC1CC1C</td>\n",
       "      <td>InChI=1S/C8H16O/c1-3-8(9)5-7-4-6(7)2/h6-9H,3-5...</td>\n",
       "      <td>3.82795</td>\n",
       "      <td>0.70743</td>\n",
       "      <td>0.64572</td>\n",
       "      <td>...</td>\n",
       "      <td>-0.2514</td>\n",
       "      <td>0.0706</td>\n",
       "      <td>0.3220</td>\n",
       "      <td>1868.1448</td>\n",
       "      <td>0.226745</td>\n",
       "      <td>-389.486207</td>\n",
       "      <td>-389.474935</td>\n",
       "      <td>-389.473990</td>\n",
       "      <td>-389.523555</td>\n",
       "      <td>41.038</td>\n",
       "    </tr>\n",
       "    <tr>\n",
       "      <th>3</th>\n",
       "      <td>15</td>\n",
       "      <td>[O, C, C, O, C, C, C, O, C, H, H, H, H, H, H]</td>\n",
       "      <td>[[tensor(-0.0469), tensor(1.3793), tensor(0.10...</td>\n",
       "      <td>[-0.473524, 0.393578, -0.076026, -0.252793, 0....</td>\n",
       "      <td>[179.447, 259.3227, 285.7826, 326.864, 419.814...</td>\n",
       "      <td>OC12C3OC3C3C1OC23</td>\n",
       "      <td>InChI=1S/C6H6O3/c7-6-3-1(4(6)9-3)2-5(6)8-2/h1-...</td>\n",
       "      <td>2.98661</td>\n",
       "      <td>2.03567</td>\n",
       "      <td>1.50302</td>\n",
       "      <td>...</td>\n",
       "      <td>-0.2363</td>\n",
       "      <td>0.0564</td>\n",
       "      <td>0.2927</td>\n",
       "      <td>850.8027</td>\n",
       "      <td>0.112226</td>\n",
       "      <td>-457.653164</td>\n",
       "      <td>-457.646643</td>\n",
       "      <td>-457.645699</td>\n",
       "      <td>-457.683748</td>\n",
       "      <td>26.709</td>\n",
       "    </tr>\n",
       "    <tr>\n",
       "      <th>4</th>\n",
       "      <td>18</td>\n",
       "      <td>[N, C, O, C, C, C, C, O, C, H, H, H, H, H, H, ...</td>\n",
       "      <td>[[tensor(-0.1242), tensor(1.2912), tensor(0.26...</td>\n",
       "      <td>[-0.525277, 0.418191, -0.362221, -0.342799, 0....</td>\n",
       "      <td>[18.4787, 69.3435, 87.5709, 122.1768, 195.826,...</td>\n",
       "      <td>NC(=O)CC1CC2OC12</td>\n",
       "      <td>InChI=1S/C6H9NO2/c7-5(8)2-3-1-4-6(3)9-4/h3-4,6...</td>\n",
       "      <td>4.07673</td>\n",
       "      <td>0.94691</td>\n",
       "      <td>0.86798</td>\n",
       "      <td>...</td>\n",
       "      <td>-0.2461</td>\n",
       "      <td>0.0328</td>\n",
       "      <td>0.2789</td>\n",
       "      <td>1338.7366</td>\n",
       "      <td>0.146610</td>\n",
       "      <td>-439.079843</td>\n",
       "      <td>-439.070770</td>\n",
       "      <td>-439.069826</td>\n",
       "      <td>-439.115743</td>\n",
       "      <td>32.478</td>\n",
       "    </tr>\n",
       "  </tbody>\n",
       "</table>\n",
       "<p>5 rows × 22 columns</p>\n",
       "</div>"
      ],
      "text/plain": [
       "   num_atoms                                     atomic_symbols  \\\n",
       "0         23  [C, C, C, C, C, C, C, C, O, H, H, H, H, H, H, ...   \n",
       "1         18  [C, C, N, C, C, O, C, C, O, H, H, H, H, H, H, ...   \n",
       "2         25  [C, C, C, O, C, C, C, C, C, H, H, H, H, H, H, ...   \n",
       "3         15      [O, C, C, O, C, C, C, O, C, H, H, H, H, H, H]   \n",
       "4         18  [N, C, O, C, C, C, C, O, C, H, H, H, H, H, H, ...   \n",
       "\n",
       "                                                 pos  \\\n",
       "0  [[tensor(-0.0051), tensor(1.4588), tensor(-0.4...   \n",
       "1  [[tensor(0.0803), tensor(1.5585), tensor(-0.02...   \n",
       "2  [[tensor(-0.0096), tensor(1.5943), tensor(-0.2...   \n",
       "3  [[tensor(-0.0469), tensor(1.3793), tensor(0.10...   \n",
       "4  [[tensor(-0.1242), tensor(1.2912), tensor(0.26...   \n",
       "\n",
       "                                             charges  \\\n",
       "0  [-0.379761, -0.27778, 0.431848, -0.288567, -0....   \n",
       "1  [-0.408106, -0.060018, -0.300466, -0.213953, 0...   \n",
       "2  [-0.381135, -0.183739, 0.13924, -0.424479, -0....   \n",
       "3  [-0.473524, 0.393578, -0.076026, -0.252793, 0....   \n",
       "4  [-0.525277, 0.418191, -0.362221, -0.342799, 0....   \n",
       "\n",
       "                     harmonic_oscillator_frequencies             smiles  \\\n",
       "0  [66.9522, 120.0611, 163.7679, 193.1266, 227.90...    CCC12CCC(C)C1O2   \n",
       "1  [58.2753, 171.1712, 218.769, 279.0711, 286.196...     CC1NCC2OC2C1=O   \n",
       "2  [28.5567, 70.3194, 99.2164, 122.2862, 176.4237...      CCC(O)CC1CC1C   \n",
       "3  [179.447, 259.3227, 285.7826, 326.864, 419.814...  OC12C3OC3C3C1OC23   \n",
       "4  [18.4787, 69.3435, 87.5709, 122.1768, 195.826,...   NC(=O)CC1CC2OC12   \n",
       "\n",
       "                                               inchi        A        B  \\\n",
       "0  InChI=1S/C8H14O/c1-3-8-5-4-6(2)7(8)9-8/h6-7H,3...  3.74323  1.06884   \n",
       "1  InChI=1S/C6H9NO2/c1-3-5(8)6-4(9-6)2-7-3/h3-4,6...  2.47471  1.70917   \n",
       "2  InChI=1S/C8H16O/c1-3-8(9)5-7-4-6(7)2/h6-9H,3-5...  3.82795  0.70743   \n",
       "3  InChI=1S/C6H6O3/c7-6-3-1(4(6)9-3)2-5(6)8-2/h1-...  2.98661  2.03567   \n",
       "4  InChI=1S/C6H9NO2/c7-5(8)2-3-1-4-6(3)9-4/h3-4,6...  4.07673  0.94691   \n",
       "\n",
       "         C  ...    homo    lumo     gap         r2      zpve          u0  \\\n",
       "0  0.95108  ... -0.2497  0.0890  0.3387  1366.2183  0.205771 -388.306749   \n",
       "1  1.17282  ... -0.2283 -0.0338  0.1945  1068.0549  0.148179 -439.080379   \n",
       "2  0.64572  ... -0.2514  0.0706  0.3220  1868.1448  0.226745 -389.486207   \n",
       "3  1.50302  ... -0.2363  0.0564  0.2927   850.8027  0.112226 -457.653164   \n",
       "4  0.86798  ... -0.2461  0.0328  0.2789  1338.7366  0.146610 -439.079843   \n",
       "\n",
       "            u           h           g      cv  \n",
       "0 -388.297374 -388.296430 -388.340757  35.962  \n",
       "1 -439.072340 -439.071396 -439.113109  30.793  \n",
       "2 -389.474935 -389.473990 -389.523555  41.038  \n",
       "3 -457.646643 -457.645699 -457.683748  26.709  \n",
       "4 -439.070770 -439.069826 -439.115743  32.478  \n",
       "\n",
       "[5 rows x 22 columns]"
      ]
     },
     "execution_count": 14,
     "metadata": {},
     "output_type": "execute_result"
    }
   ],
   "source": [
    "df.head(5)"
   ]
  },
  {
   "cell_type": "markdown",
   "id": "c0735056",
   "metadata": {},
   "source": [
    "### pandas DF csv로 저장하는 코드"
   ]
  },
  {
   "cell_type": "code",
   "execution_count": 15,
   "id": "268f0843",
   "metadata": {},
   "outputs": [],
   "source": [
    "import pandas as pd\n",
    "\n",
    "# Assuming you have a DataFrame called df\n",
    "\n",
    "# Convert the DataFrame to a CSV file\n",
    "df.to_csv('QM9_allfeatures.csv', index=False)"
   ]
  },
  {
   "cell_type": "code",
   "execution_count": 4,
   "id": "49a4e05a",
   "metadata": {},
   "outputs": [],
   "source": [
    "import pandas as pd"
   ]
  },
  {
   "cell_type": "code",
   "execution_count": 6,
   "id": "ed925cce",
   "metadata": {},
   "outputs": [
    {
     "data": {
      "text/plain": [
       "'/home/sjang/Project/PDF-main'"
      ]
     },
     "execution_count": 6,
     "metadata": {},
     "output_type": "execute_result"
    }
   ],
   "source": [
    "pwd"
   ]
  },
  {
   "cell_type": "code",
   "execution_count": 7,
   "id": "722ca200",
   "metadata": {},
   "outputs": [],
   "source": [
    "# Read the CSV file into a DataFrame\n",
    "df = pd.read_csv('./QM9/QM9_allfeatures.csv')"
   ]
  },
  {
   "cell_type": "code",
   "execution_count": 8,
   "id": "830abb56",
   "metadata": {},
   "outputs": [
    {
     "name": "stdout",
     "output_type": "stream",
     "text": [
      "<class 'pandas.core.frame.DataFrame'>\n",
      "RangeIndex: 133885 entries, 0 to 133884\n",
      "Data columns (total 22 columns):\n",
      " #   Column                           Non-Null Count   Dtype  \n",
      "---  ------                           --------------   -----  \n",
      " 0   num_atoms                        133885 non-null  int64  \n",
      " 1   atomic_symbols                   133885 non-null  object \n",
      " 2   pos                              133885 non-null  object \n",
      " 3   charges                          133885 non-null  object \n",
      " 4   harmonic_oscillator_frequencies  133885 non-null  object \n",
      " 5   smiles                           133885 non-null  object \n",
      " 6   inchi                            133885 non-null  object \n",
      " 7   A                                133885 non-null  float64\n",
      " 8   B                                133885 non-null  float64\n",
      " 9   C                                133885 non-null  float64\n",
      " 10  mu                               133885 non-null  float64\n",
      " 11  alpha                            133885 non-null  float64\n",
      " 12  homo                             133885 non-null  float64\n",
      " 13  lumo                             133885 non-null  float64\n",
      " 14  gap                              133885 non-null  float64\n",
      " 15  r2                               133885 non-null  float64\n",
      " 16  zpve                             133885 non-null  float64\n",
      " 17  u0                               133885 non-null  float64\n",
      " 18  u                                133885 non-null  float64\n",
      " 19  h                                133885 non-null  float64\n",
      " 20  g                                133885 non-null  float64\n",
      " 21  cv                               133885 non-null  float64\n",
      "dtypes: float64(15), int64(1), object(6)\n",
      "memory usage: 22.5+ MB\n"
     ]
    }
   ],
   "source": [
    "df.info()"
   ]
  },
  {
   "cell_type": "code",
   "execution_count": null,
   "id": "e6458df5",
   "metadata": {},
   "outputs": [],
   "source": [
    "for i in df['atomic_symbols']:\n",
    "    for j in i"
   ]
  },
  {
   "cell_type": "code",
   "execution_count": 27,
   "id": "7802746d",
   "metadata": {},
   "outputs": [
    {
     "data": {
      "text/plain": [
       "Index(['num_atoms', 'atomic_symbols', 'pos', 'charges',\n",
       "       'harmonic_oscillator_frequencies', 'smiles', 'inchi', 'A', 'B', 'C',\n",
       "       'mu', 'alpha', 'homo', 'lumo', 'gap', 'r2', 'zpve', 'u0', 'u', 'h', 'g',\n",
       "       'cv'],\n",
       "      dtype='object')"
      ]
     },
     "execution_count": 27,
     "metadata": {},
     "output_type": "execute_result"
    }
   ],
   "source": [
    "df.columns"
   ]
  },
  {
   "cell_type": "code",
   "execution_count": null,
   "id": "8ee93db2",
   "metadata": {},
   "outputs": [],
   "source": []
  },
  {
   "cell_type": "markdown",
   "id": "d0242ade",
   "metadata": {},
   "source": [
    "### EC의 HOMO-LUMO 값 있는지 찾아보기\n",
    "* SMILES of EC : O=C1OCCO1"
   ]
  },
  {
   "cell_type": "code",
   "execution_count": 34,
   "id": "686ab0d9",
   "metadata": {},
   "outputs": [
    {
     "data": {
      "image/png": "[encoded data removed]",
      "text/plain": [
       "<rdkit.Chem.rdchem.Mol at 0x7fb6ca1de660>"
      ]
     },
     "execution_count": 34,
     "metadata": {},
     "output_type": "execute_result"
    }
   ],
   "source": [
    "m = Chem.MolFromSmiles('O=C1OCCO1')\n",
    "m"
   ]
  },
  {
   "cell_type": "code",
   "execution_count": 35,
   "id": "8cc13101",
   "metadata": {},
   "outputs": [
    {
     "data": {
      "text/plain": [
       "'O=C1OCCO1'"
      ]
     },
     "execution_count": 35,
     "metadata": {},
     "output_type": "execute_result"
    }
   ],
   "source": [
    "canonical = Chem.MolToSmiles(Chem.MolFromSmiles('O=C1OCCO1'))\n",
    "canonical"
   ]
  },
  {
   "cell_type": "code",
   "execution_count": 32,
   "id": "0964c3b5",
   "metadata": {},
   "outputs": [
    {
     "data": {
      "text/html": [
       "<div>\n",
       "<style scoped>\n",
       "    .dataframe tbody tr th:only-of-type {\n",
       "        vertical-align: middle;\n",
       "    }\n",
       "\n",
       "    .dataframe tbody tr th {\n",
       "        vertical-align: top;\n",
       "    }\n",
       "\n",
       "    .dataframe thead th {\n",
       "        text-align: right;\n",
       "    }\n",
       "</style>\n",
       "<table border=\"1\" class=\"dataframe\">\n",
       "  <thead>\n",
       "    <tr style=\"text-align: right;\">\n",
       "      <th></th>\n",
       "      <th>num_atoms</th>\n",
       "      <th>atomic_symbols</th>\n",
       "      <th>pos</th>\n",
       "      <th>charges</th>\n",
       "      <th>harmonic_oscillator_frequencies</th>\n",
       "      <th>smiles</th>\n",
       "      <th>inchi</th>\n",
       "      <th>A</th>\n",
       "      <th>B</th>\n",
       "      <th>C</th>\n",
       "      <th>...</th>\n",
       "      <th>homo</th>\n",
       "      <th>lumo</th>\n",
       "      <th>gap</th>\n",
       "      <th>r2</th>\n",
       "      <th>zpve</th>\n",
       "      <th>u0</th>\n",
       "      <th>u</th>\n",
       "      <th>h</th>\n",
       "      <th>g</th>\n",
       "      <th>cv</th>\n",
       "    </tr>\n",
       "  </thead>\n",
       "  <tbody>\n",
       "    <tr>\n",
       "      <th>111735</th>\n",
       "      <td>10</td>\n",
       "      <td>['O', 'C', 'O', 'C', 'C', 'O', 'H', 'H', 'H', ...</td>\n",
       "      <td>tensor([[ 2.0074e-03,  4.2403e-03,  2.9593e-03...</td>\n",
       "      <td>[-0.366595  0.506779 -0.2382   -0.101347 -0.10...</td>\n",
       "      <td>[135.214, 187.3974, 522.4235, 707.6737, 725.73...</td>\n",
       "      <td>O=C1OCCO1</td>\n",
       "      <td>InChI=1S/C3H4O3/c4-3-5-1-2-6-3/h1-2H2</td>\n",
       "      <td>8.03253</td>\n",
       "      <td>3.84232</td>\n",
       "      <td>2.70377</td>\n",
       "      <td>...</td>\n",
       "      <td>-0.2935</td>\n",
       "      <td>0.0401</td>\n",
       "      <td>0.3336</td>\n",
       "      <td>455.3293</td>\n",
       "      <td>0.074926</td>\n",
       "      <td>-342.352279</td>\n",
       "      <td>-342.34739</td>\n",
       "      <td>-342.346446</td>\n",
       "      <td>-342.380838</td>\n",
       "      <td>16.45</td>\n",
       "    </tr>\n",
       "  </tbody>\n",
       "</table>\n",
       "<p>1 rows × 22 columns</p>\n",
       "</div>"
      ],
      "text/plain": [
       "        num_atoms                                     atomic_symbols  \\\n",
       "111735         10  ['O', 'C', 'O', 'C', 'C', 'O', 'H', 'H', 'H', ...   \n",
       "\n",
       "                                                      pos  \\\n",
       "111735  tensor([[ 2.0074e-03,  4.2403e-03,  2.9593e-03...   \n",
       "\n",
       "                                                  charges  \\\n",
       "111735  [-0.366595  0.506779 -0.2382   -0.101347 -0.10...   \n",
       "\n",
       "                          harmonic_oscillator_frequencies     smiles  \\\n",
       "111735  [135.214, 187.3974, 522.4235, 707.6737, 725.73...  O=C1OCCO1   \n",
       "\n",
       "                                        inchi        A        B        C  ...  \\\n",
       "111735  InChI=1S/C3H4O3/c4-3-5-1-2-6-3/h1-2H2  8.03253  3.84232  2.70377  ...   \n",
       "\n",
       "          homo    lumo     gap        r2      zpve          u0          u  \\\n",
       "111735 -0.2935  0.0401  0.3336  455.3293  0.074926 -342.352279 -342.34739   \n",
       "\n",
       "                 h           g     cv  \n",
       "111735 -342.346446 -342.380838  16.45  \n",
       "\n",
       "[1 rows x 22 columns]"
      ]
     },
     "execution_count": 32,
     "metadata": {},
     "output_type": "execute_result"
    }
   ],
   "source": [
    "df[df['smiles']=='O=C1OCCO1']"
   ]
  },
  {
   "cell_type": "markdown",
   "id": "3f24fbe6",
   "metadata": {},
   "source": [
    "* HOMO of EC : -0.2935 eV\n",
    "* LUMO of EC : 0.0401 eV"
   ]
  },
  {
   "cell_type": "code",
   "execution_count": null,
   "id": "123b74ea",
   "metadata": {},
   "outputs": [],
   "source": []
  },
  {
   "cell_type": "code",
   "execution_count": null,
   "id": "8ee6dcad",
   "metadata": {},
   "outputs": [],
   "source": []
  },
  {
   "cell_type": "code",
   "execution_count": null,
   "id": "830d5731",
   "metadata": {},
   "outputs": [],
   "source": []
  },
  {
   "cell_type": "code",
   "execution_count": null,
   "id": "b52da5f2",
   "metadata": {},
   "outputs": [],
   "source": []
  },
  {
   "cell_type": "code",
   "execution_count": null,
   "id": "34159146",
   "metadata": {},
   "outputs": [],
   "source": []
  },
  {
   "cell_type": "markdown",
   "id": "25facd8c",
   "metadata": {},
   "source": [
    "### TDC에서 Tox21 데이터 가져오기"
   ]
  },
  {
   "cell_type": "code",
   "execution_count": 37,
   "id": "a0354295",
   "metadata": {},
   "outputs": [],
   "source": [
    "from tdc.utils import retrieve_label_name_list\n",
    "label_list = retrieve_label_name_list('Tox21')"
   ]
  },
  {
   "cell_type": "code",
   "execution_count": 39,
   "id": "2afff429",
   "metadata": {},
   "outputs": [
    {
     "name": "stderr",
     "output_type": "stream",
     "text": [
      "Downloading...\n",
      "100%|█████████████████████████████████████████████████████████████████████| 712k/712k [00:00<00:00, 862kiB/s]\n",
      "Loading...\n",
      "Done!\n"
     ]
    }
   ],
   "source": [
    "from tdc.single_pred import Tox\n",
    "data = Tox(name = 'Tox21', label_name = label_list[0])"
   ]
  },
  {
   "cell_type": "code",
   "execution_count": 41,
   "id": "7981e09c",
   "metadata": {
    "collapsed": true
   },
   "outputs": [
    {
     "data": {
      "text/plain": [
       "['__class__',\n",
       " '__delattr__',\n",
       " '__dict__',\n",
       " '__dir__',\n",
       " '__doc__',\n",
       " '__eq__',\n",
       " '__format__',\n",
       " '__ge__',\n",
       " '__getattribute__',\n",
       " '__gt__',\n",
       " '__hash__',\n",
       " '__init__',\n",
       " '__init_subclass__',\n",
       " '__le__',\n",
       " '__len__',\n",
       " '__lt__',\n",
       " '__module__',\n",
       " '__ne__',\n",
       " '__new__',\n",
       " '__reduce__',\n",
       " '__reduce_ex__',\n",
       " '__repr__',\n",
       " '__setattr__',\n",
       " '__sizeof__',\n",
       " '__str__',\n",
       " '__subclasshook__',\n",
       " '__weakref__',\n",
       " 'balanced',\n",
       " 'binarize',\n",
       " 'convert_format',\n",
       " 'convert_from_log',\n",
       " 'convert_result',\n",
       " 'convert_to_log',\n",
       " 'entity1',\n",
       " 'entity1_idx',\n",
       " 'entity1_name',\n",
       " 'file_format',\n",
       " 'get_data',\n",
       " 'get_label_meaning',\n",
       " 'get_split',\n",
       " 'label_distribution',\n",
       " 'label_name',\n",
       " 'name',\n",
       " 'path',\n",
       " 'print_stats',\n",
       " 'raw_format',\n",
       " 'y']"
      ]
     },
     "execution_count": 41,
     "metadata": {},
     "output_type": "execute_result"
    }
   ],
   "source": [
    "dir(data)"
   ]
  },
  {
   "cell_type": "code",
   "execution_count": 42,
   "id": "d5c5f60d",
   "metadata": {},
   "outputs": [],
   "source": [
    "split = data.get_split(method='random', frac=[0.7, 0.1, 0.2], seed=100)"
   ]
  },
  {
   "cell_type": "code",
   "execution_count": 44,
   "id": "ad066cd0",
   "metadata": {},
   "outputs": [],
   "source": [
    "train = split['train']\n",
    "test = split['test']\n",
    "val = split['valid']"
   ]
  },
  {
   "cell_type": "code",
   "execution_count": 45,
   "id": "e537d9bf",
   "metadata": {},
   "outputs": [
    {
     "data": {
      "text/html": [
       "<div>\n",
       "<style scoped>\n",
       "    .dataframe tbody tr th:only-of-type {\n",
       "        vertical-align: middle;\n",
       "    }\n",
       "\n",
       "    .dataframe tbody tr th {\n",
       "        vertical-align: top;\n",
       "    }\n",
       "\n",
       "    .dataframe thead th {\n",
       "        text-align: right;\n",
       "    }\n",
       "</style>\n",
       "<table border=\"1\" class=\"dataframe\">\n",
       "  <thead>\n",
       "    <tr style=\"text-align: right;\">\n",
       "      <th></th>\n",
       "      <th>Drug_ID</th>\n",
       "      <th>Drug</th>\n",
       "      <th>Y</th>\n",
       "    </tr>\n",
       "  </thead>\n",
       "  <tbody>\n",
       "    <tr>\n",
       "      <th>0</th>\n",
       "      <td>TOX3021</td>\n",
       "      <td>CCOc1ccc2nc(S(N)(=O)=O)sc2c1</td>\n",
       "      <td>0.0</td>\n",
       "    </tr>\n",
       "    <tr>\n",
       "      <th>1</th>\n",
       "      <td>TOX3020</td>\n",
       "      <td>CCN1C(=O)NC(c2ccccc2)C1=O</td>\n",
       "      <td>0.0</td>\n",
       "    </tr>\n",
       "    <tr>\n",
       "      <th>2</th>\n",
       "      <td>TOX3027</td>\n",
       "      <td>CCCN(CC)C(CC)C(=O)Nc1c(C)cccc1C</td>\n",
       "      <td>0.0</td>\n",
       "    </tr>\n",
       "    <tr>\n",
       "      <th>3</th>\n",
       "      <td>TOX20800</td>\n",
       "      <td>CC(O)(P(=O)(O)O)P(=O)(O)O</td>\n",
       "      <td>0.0</td>\n",
       "    </tr>\n",
       "    <tr>\n",
       "      <th>4</th>\n",
       "      <td>TOX6619</td>\n",
       "      <td>O=S(=O)(Cl)c1ccccc1</td>\n",
       "      <td>0.0</td>\n",
       "    </tr>\n",
       "    <tr>\n",
       "      <th>...</th>\n",
       "      <td>...</td>\n",
       "      <td>...</td>\n",
       "      <td>...</td>\n",
       "    </tr>\n",
       "    <tr>\n",
       "      <th>5081</th>\n",
       "      <td>TOX25183</td>\n",
       "      <td>Cc1ccc(=O)n(-c2ccccc2)c1</td>\n",
       "      <td>0.0</td>\n",
       "    </tr>\n",
       "    <tr>\n",
       "      <th>5082</th>\n",
       "      <td>TOX25180</td>\n",
       "      <td>NC(=O)CN1CC(O)CC1=O</td>\n",
       "      <td>0.0</td>\n",
       "    </tr>\n",
       "    <tr>\n",
       "      <th>5083</th>\n",
       "      <td>TOX25187</td>\n",
       "      <td>CCC(=O)c1ccc2c(c1)N(CCCN(C)C)c1ccccc1S2</td>\n",
       "      <td>0.0</td>\n",
       "    </tr>\n",
       "    <tr>\n",
       "      <th>5084</th>\n",
       "      <td>TOX25184</td>\n",
       "      <td>CCCNCC(O)COc1ccccc1C(=O)CCc1ccccc1</td>\n",
       "      <td>0.0</td>\n",
       "    </tr>\n",
       "    <tr>\n",
       "      <th>5085</th>\n",
       "      <td>TOX2370</td>\n",
       "      <td>CC(=O)[C@H]1CC[C@H]2[C@@H]3CCC4=CC(=O)CC[C@]4(...</td>\n",
       "      <td>1.0</td>\n",
       "    </tr>\n",
       "  </tbody>\n",
       "</table>\n",
       "<p>5086 rows × 3 columns</p>\n",
       "</div>"
      ],
      "text/plain": [
       "       Drug_ID                                               Drug    Y\n",
       "0      TOX3021                       CCOc1ccc2nc(S(N)(=O)=O)sc2c1  0.0\n",
       "1      TOX3020                          CCN1C(=O)NC(c2ccccc2)C1=O  0.0\n",
       "2      TOX3027                    CCCN(CC)C(CC)C(=O)Nc1c(C)cccc1C  0.0\n",
       "3     TOX20800                          CC(O)(P(=O)(O)O)P(=O)(O)O  0.0\n",
       "4      TOX6619                                O=S(=O)(Cl)c1ccccc1  0.0\n",
       "...        ...                                                ...  ...\n",
       "5081  TOX25183                           Cc1ccc(=O)n(-c2ccccc2)c1  0.0\n",
       "5082  TOX25180                                NC(=O)CN1CC(O)CC1=O  0.0\n",
       "5083  TOX25187            CCC(=O)c1ccc2c(c1)N(CCCN(C)C)c1ccccc1S2  0.0\n",
       "5084  TOX25184                 CCCNCC(O)COc1ccccc1C(=O)CCc1ccccc1  0.0\n",
       "5085   TOX2370  CC(=O)[C@H]1CC[C@H]2[C@@H]3CCC4=CC(=O)CC[C@]4(...  1.0\n",
       "\n",
       "[5086 rows x 3 columns]"
      ]
     },
     "execution_count": 45,
     "metadata": {},
     "output_type": "execute_result"
    }
   ],
   "source": [
    "train"
   ]
  },
  {
   "cell_type": "code",
   "execution_count": 46,
   "id": "82792717",
   "metadata": {},
   "outputs": [
    {
     "data": {
      "text/plain": [
       "5086"
      ]
     },
     "execution_count": 46,
     "metadata": {},
     "output_type": "execute_result"
    }
   ],
   "source": [
    "smi_list = list(train['Drug'])\n",
    "len(smi_list)"
   ]
  },
  {
   "cell_type": "code",
   "execution_count": 47,
   "id": "69920715",
   "metadata": {},
   "outputs": [
    {
     "data": {
      "text/plain": [
       "5086"
      ]
     },
     "execution_count": 47,
     "metadata": {},
     "output_type": "execute_result"
    }
   ],
   "source": [
    "label_list = list(train['Y'])\n",
    "len(label_list)"
   ]
  },
  {
   "cell_type": "code",
   "execution_count": 49,
   "id": "c3135081",
   "metadata": {},
   "outputs": [
    {
     "data": {
      "text/plain": [
       "'CCOc1ccc2nc(S(N)(=O)=O)sc2c1'"
      ]
     },
     "execution_count": 49,
     "metadata": {},
     "output_type": "execute_result"
    }
   ],
   "source": [
    "smi = smi_list[0]\n",
    "smi"
   ]
  },
  {
   "cell_type": "code",
   "execution_count": 51,
   "id": "d6b0d481",
   "metadata": {},
   "outputs": [
    {
     "data": {
      "image/png": "[encoded data removed]",
      "text/plain": [
       "<rdkit.Chem.rdchem.Mol at 0x7fb6c8ea75f0>"
      ]
     },
     "execution_count": 51,
     "metadata": {},
     "output_type": "execute_result"
    }
   ],
   "source": [
    "mol = Chem.MolFromSmiles(smi)\n",
    "mol"
   ]
  },
  {
   "cell_type": "code",
   "execution_count": 55,
   "id": "c6ad26e2",
   "metadata": {},
   "outputs": [
    {
     "data": {
      "text/plain": [
       "16"
      ]
     },
     "execution_count": 55,
     "metadata": {},
     "output_type": "execute_result"
    }
   ],
   "source": [
    "atom_list = mol.GetAtoms()\n",
    "atom_list\n",
    "len(atom_list)"
   ]
  },
  {
   "cell_type": "code",
   "execution_count": 58,
   "id": "b72ba0a1",
   "metadata": {},
   "outputs": [
    {
     "name": "stdout",
     "output_type": "stream",
     "text": [
      "C\n",
      "1\n",
      "3\n",
      "3\n"
     ]
    }
   ],
   "source": [
    "atom = atom_list[0]\n",
    "print(atom.GetSymbol())\n",
    "print(atom.GetDegree())\n",
    "print(atom.GetTotalNumHs())\n",
    "print(atom.GetImplicitValence())"
   ]
  },
  {
   "cell_type": "code",
   "execution_count": 61,
   "id": "067cceb8",
   "metadata": {},
   "outputs": [
    {
     "name": "stdout",
     "output_type": "stream",
     "text": [
      "<rdkit.Chem.rdchem.Atom object at 0x7fb6ed2a1350>\n",
      "C\n",
      "0\n",
      "SINGLE\n",
      "<rdkit.Chem.rdchem.Atom object at 0x7fb6ed2a1350>\n",
      "C\n",
      "1\n"
     ]
    }
   ],
   "source": [
    "bond_list = mol.GetBonds()\n",
    "bond = bond_list[0]\n",
    "print(bond.GetBeginAtom())\n",
    "print(bond.GetBeginAtom().GetSymbol())\n",
    "print(bond.GetBeginAtom().GetIdx())\n",
    "print(bond.GetBondType())\n",
    "\n",
    "print(bond.GetEndAtom())\n",
    "print(bond.GetEndAtom().GetSymbol())\n",
    "print(bond.GetEndAtom().GetIdx())"
   ]
  },
  {
   "cell_type": "code",
   "execution_count": null,
   "id": "58e98cfe",
   "metadata": {},
   "outputs": [],
   "source": []
  },
  {
   "cell_type": "code",
   "execution_count": null,
   "id": "049df7e9",
   "metadata": {},
   "outputs": [],
   "source": []
  },
  {
   "cell_type": "code",
   "execution_count": null,
   "id": "eae3994b",
   "metadata": {},
   "outputs": [],
   "source": []
  },
  {
   "cell_type": "code",
   "execution_count": null,
   "id": "71dd0f1f",
   "metadata": {},
   "outputs": [],
   "source": []
  },
  {
   "cell_type": "markdown",
   "id": "f7d1a98d",
   "metadata": {},
   "source": [
    "### TDC에서 ToxCast 데이터 가져오기"
   ]
  },
  {
   "cell_type": "code",
   "execution_count": 62,
   "id": "13426e39",
   "metadata": {},
   "outputs": [],
   "source": [
    "from tdc.utils import retrieve_label_name_list\n",
    "label_list = retrieve_label_name_list('Toxcast')"
   ]
  },
  {
   "cell_type": "code",
   "execution_count": 63,
   "id": "44a14b21",
   "metadata": {},
   "outputs": [
    {
     "name": "stderr",
     "output_type": "stream",
     "text": [
      "Downloading...\n",
      "100%|██████████████████████████████████████████████████████████████████| 10.3M/10.3M [00:01<00:00, 5.82MiB/s]\n",
      "Loading...\n",
      "Done!\n"
     ]
    }
   ],
   "source": [
    "from tdc.single_pred import Tox\n",
    "data = Tox(name = 'ToxCast', label_name = label_list[0])\n",
    "split = data.get_split(method='random', frac=[0.7, 0.1, 0.2], seed=100)"
   ]
  },
  {
   "cell_type": "code",
   "execution_count": 64,
   "id": "d6011a53",
   "metadata": {},
   "outputs": [],
   "source": [
    "train_cast = split['train']"
   ]
  },
  {
   "cell_type": "code",
   "execution_count": 65,
   "id": "1ac2e7c7",
   "metadata": {},
   "outputs": [
    {
     "data": {
      "text/html": [
       "<div>\n",
       "<style scoped>\n",
       "    .dataframe tbody tr th:only-of-type {\n",
       "        vertical-align: middle;\n",
       "    }\n",
       "\n",
       "    .dataframe tbody tr th {\n",
       "        vertical-align: top;\n",
       "    }\n",
       "\n",
       "    .dataframe thead th {\n",
       "        text-align: right;\n",
       "    }\n",
       "</style>\n",
       "<table border=\"1\" class=\"dataframe\">\n",
       "  <thead>\n",
       "    <tr style=\"text-align: right;\">\n",
       "      <th></th>\n",
       "      <th>Drug_ID</th>\n",
       "      <th>Drug</th>\n",
       "      <th>Y</th>\n",
       "    </tr>\n",
       "  </thead>\n",
       "  <tbody>\n",
       "    <tr>\n",
       "      <th>0</th>\n",
       "      <td>Drug 0</td>\n",
       "      <td>O=[N+]([O-])c1ccc(Cl)cc1</td>\n",
       "      <td>0.0</td>\n",
       "    </tr>\n",
       "    <tr>\n",
       "      <th>1</th>\n",
       "      <td>Drug 3</td>\n",
       "      <td>Nc1ccc([N+](=O)[O-])cc1</td>\n",
       "      <td>1.0</td>\n",
       "    </tr>\n",
       "    <tr>\n",
       "      <th>2</th>\n",
       "      <td>Drug 4</td>\n",
       "      <td>O=[N+]([O-])c1ccc(O)cc1</td>\n",
       "      <td>0.0</td>\n",
       "    </tr>\n",
       "    <tr>\n",
       "      <th>3</th>\n",
       "      <td>Drug 15</td>\n",
       "      <td>O=C(O)c1ccc(C(=O)O)cc1</td>\n",
       "      <td>0.0</td>\n",
       "    </tr>\n",
       "    <tr>\n",
       "      <th>4</th>\n",
       "      <td>Drug 22</td>\n",
       "      <td>Cl[Dy](Cl)Cl</td>\n",
       "      <td>0.0</td>\n",
       "    </tr>\n",
       "    <tr>\n",
       "      <th>...</th>\n",
       "      <td>...</td>\n",
       "      <td>...</td>\n",
       "      <td>...</td>\n",
       "    </tr>\n",
       "    <tr>\n",
       "      <th>1207</th>\n",
       "      <td>Drug 8551</td>\n",
       "      <td>CCOC(=O)O[C@H](C)OC(=O)c1ccc2c(c1)cc(C(=O)NC1C...</td>\n",
       "      <td>1.0</td>\n",
       "    </tr>\n",
       "    <tr>\n",
       "      <th>1208</th>\n",
       "      <td>Drug 8552</td>\n",
       "      <td>CCN(Cc1cccnc1)C(=O)c1cccc(Cl)c1[C@]1(C)C(=O)N(...</td>\n",
       "      <td>0.0</td>\n",
       "    </tr>\n",
       "    <tr>\n",
       "      <th>1209</th>\n",
       "      <td>Drug 8554</td>\n",
       "      <td>O=C([O-])c1ccc2c(c1)nc(C(=O)NC1CCN(C3CC3)CC1)n...</td>\n",
       "      <td>0.0</td>\n",
       "    </tr>\n",
       "    <tr>\n",
       "      <th>1210</th>\n",
       "      <td>Drug 8555</td>\n",
       "      <td>CC(=O)O.COCCOc1cc2cc(C(=O)NC3CCN(C(C)C)CC3)n(C...</td>\n",
       "      <td>0.0</td>\n",
       "    </tr>\n",
       "    <tr>\n",
       "      <th>1211</th>\n",
       "      <td>Drug 8557</td>\n",
       "      <td>CCOC(=O)c1ccc([C@H]2CC[C@H](NC[C@H](O)COc3ccc(...</td>\n",
       "      <td>1.0</td>\n",
       "    </tr>\n",
       "  </tbody>\n",
       "</table>\n",
       "<p>1212 rows × 3 columns</p>\n",
       "</div>"
      ],
      "text/plain": [
       "        Drug_ID                                               Drug    Y\n",
       "0        Drug 0                           O=[N+]([O-])c1ccc(Cl)cc1  0.0\n",
       "1        Drug 3                            Nc1ccc([N+](=O)[O-])cc1  1.0\n",
       "2        Drug 4                            O=[N+]([O-])c1ccc(O)cc1  0.0\n",
       "3       Drug 15                             O=C(O)c1ccc(C(=O)O)cc1  0.0\n",
       "4       Drug 22                                       Cl[Dy](Cl)Cl  0.0\n",
       "...         ...                                                ...  ...\n",
       "1207  Drug 8551  CCOC(=O)O[C@H](C)OC(=O)c1ccc2c(c1)cc(C(=O)NC1C...  1.0\n",
       "1208  Drug 8552  CCN(Cc1cccnc1)C(=O)c1cccc(Cl)c1[C@]1(C)C(=O)N(...  0.0\n",
       "1209  Drug 8554  O=C([O-])c1ccc2c(c1)nc(C(=O)NC1CCN(C3CC3)CC1)n...  0.0\n",
       "1210  Drug 8555  CC(=O)O.COCCOc1cc2cc(C(=O)NC3CCN(C(C)C)CC3)n(C...  0.0\n",
       "1211  Drug 8557  CCOC(=O)c1ccc([C@H]2CC[C@H](NC[C@H](O)COc3ccc(...  1.0\n",
       "\n",
       "[1212 rows x 3 columns]"
      ]
     },
     "execution_count": 65,
     "metadata": {},
     "output_type": "execute_result"
    }
   ],
   "source": [
    "train_cast"
   ]
  },
  {
   "cell_type": "code",
   "execution_count": null,
   "id": "6c2cf421",
   "metadata": {},
   "outputs": [],
   "source": []
  },
  {
   "cell_type": "code",
   "execution_count": null,
   "id": "adaf71ba",
   "metadata": {},
   "outputs": [],
   "source": []
  },
  {
   "cell_type": "code",
   "execution_count": null,
   "id": "5fc88aaa",
   "metadata": {},
   "outputs": [],
   "source": []
  },
  {
   "cell_type": "code",
   "execution_count": null,
   "id": "3f1b361d",
   "metadata": {},
   "outputs": [],
   "source": []
  }
 ],
 "metadata": {
  "kernelspec": {
   "display_name": "PDF",
   "language": "python",
   "name": "pdf"
  },
  "language_info": {
   "codemirror_mode": {
    "name": "ipython",
    "version": 3
   },
   "file_extension": ".py",
   "mimetype": "text/x-python",
   "name": "python",
   "nbconvert_exporter": "python",
   "pygments_lexer": "ipython3",
   "version": "3.8.16"
  }
 },
 "nbformat": 4,
 "nbformat_minor": 5
}
