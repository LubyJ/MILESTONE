{
 "cells": [
  {
   "cell_type": "code",
   "execution_count": 1,
   "metadata": {
    "ExecuteTime": {
     "end_time": "2023-08-01T05:40:15.789058700Z",
     "start_time": "2023-08-01T05:40:15.015407900Z"
    }
   },
   "outputs": [],
   "source": [
    "import os\n",
    "import json\n",
    "import pandas as pd\n",
    "import csv"
   ]
  },
  {
   "cell_type": "code",
   "execution_count": 64,
   "metadata": {
    "ExecuteTime": {
     "end_time": "2023-08-01T05:59:10.555235Z",
     "start_time": "2023-08-01T05:59:07.113882200Z"
    }
   },
   "outputs": [],
   "source": [
    "main_folder_path = './Compound_121475001_121500000/' #####여기 수정#########\n",
    "\n",
    "data_list = []\n",
    "\n",
    "for i in range(121475001, 121500000):    #####여기 수정########\n",
    "    subfolder_name = f\"{i:09d}\"\n",
    "    subfolder_path = os.path.join(main_folder_path, subfolder_name)\n",
    "\n",
    "    json_file_name = f\"{subfolder_name}.B3LYP@PM6.S0.json\"\n",
    "    json_file_path = os.path.join(subfolder_path, json_file_name)\n",
    "\n",
    "    if os.path.exists(json_file_path):\n",
    "        with open(json_file_path, 'r') as json_file:\n",
    "            json_data = json.load(json_file)\n",
    "\n",
    "            molecular_formula = json_data[\"pubchem\"][\"molecular formula\"]\n",
    "            molecular_weight = json_data[\"pubchem\"][\"molecular weight\"]\n",
    "            atom_count = json_data[\"pubchem\"][\"B3LYP@PM6\"][\"atoms\"][\"elements\"][\"atom count\"]\n",
    "            heavy_atom_count = json_data[\"pubchem\"][\"B3LYP@PM6\"][\"atoms\"][\"elements\"][\"heavy atom count\"]\n",
    "            total_dipole_moment = json_data[\"pubchem\"][\"B3LYP@PM6\"][\"properties\"][\"total dipole moment\"]\n",
    "            homo_alpha = json_data[\"pubchem\"][\"B3LYP@PM6\"][\"properties\"][\"energy\"][\"alpha\"][\"homo\"]\n",
    "            lumo_alpha = json_data[\"pubchem\"][\"B3LYP@PM6\"][\"properties\"][\"energy\"][\"alpha\"][\"lumo\"]\n",
    "            gap_alpha = json_data[\"pubchem\"][\"B3LYP@PM6\"][\"properties\"][\"energy\"][\"alpha\"][\"gap\"]\n",
    "            isomeric_smiles = json_data[\"pubchem\"][\"Isomeric SMILES\"]\n",
    "\n",
    "            # Append the extracted information as a dictionary to the data_list\n",
    "            data_list.append({\n",
    "                \"i\": i,\n",
    "                \"molecular_formula\": molecular_formula,\n",
    "                \"molecular_weight\" : molecular_weight,\n",
    "                \"atom_count\": atom_count,\n",
    "                \"heavy_atom_count\": heavy_atom_count,\n",
    "                \"total_dipole_moment\": total_dipole_moment,\n",
    "                \"homo\": homo_alpha,\n",
    "                \"lumo\": lumo_alpha,\n",
    "                \"gap\": gap_alpha,\n",
    "                \"Isomeric_SMILES\": isomeric_smiles\n",
    "            })\n",
    "\n",
    "# Create a pandas DataFrame from the data_list\n",
    "df = pd.DataFrame(data_list)\n",
    "\n",
    "# Set the \"i\" column as the index of the DataFrame\n",
    "df.set_index('i', inplace=True)\n"
   ]
  },
  {
   "cell_type": "code",
   "execution_count": 65,
   "metadata": {},
   "outputs": [
    {
     "name": "stdout",
     "output_type": "stream",
     "text": [
      "<class 'pandas.core.frame.DataFrame'>\n",
      "Index: 3220 entries, 121475066 to 121494105\n",
      "Data columns (total 9 columns):\n",
      " #   Column               Non-Null Count  Dtype  \n",
      "---  ------               --------------  -----  \n",
      " 0   molecular_formula    3220 non-null   object \n",
      " 1   molecular_weight     3220 non-null   float64\n",
      " 2   atom_count           3220 non-null   int64  \n",
      " 3   heavy_atom_count     3220 non-null   int64  \n",
      " 4   total_dipole_moment  3220 non-null   float64\n",
      " 5   homo                 3220 non-null   float64\n",
      " 6   lumo                 3220 non-null   float64\n",
      " 7   gap                  3220 non-null   float64\n",
      " 8   Isomeric_SMILES      3220 non-null   object \n",
      "dtypes: float64(5), int64(2), object(2)\n",
      "memory usage: 251.6+ KB\n"
     ]
    }
   ],
   "source": [
    "df.info()"
   ]
  },
  {
   "cell_type": "code",
   "execution_count": 66,
   "metadata": {
    "ExecuteTime": {
     "end_time": "2023-08-01T06:01:16.381777800Z",
     "start_time": "2023-08-01T06:01:16.280206300Z"
    }
   },
   "outputs": [],
   "source": [
    "output_csv_file = './Compound_121475001_121500000.csv' #####여기 수정#########\n",
    "df.to_csv(output_csv_file)"
   ]
  },
  {
   "cell_type": "markdown",
   "metadata": {},
   "source": [
    "__각 폴더별 데이터개수__ "
   ]
  },
  {
   "cell_type": "markdown",
   "metadata": {},
   "source": [
    "Compound_000000001_000025000 : 12683 <br>\n",
    "Compound_000025001_000050000 : 9449 <br>\n",
    "Compound_000050001_000075000 : 9489 <br>\n",
    "Compound_020000001_020025000 : 251<br>\n",
    "Compound_020050001_020075000 : 4902<br>\n",
    "Compound_022475001_022500000 : 4672 <br>\n",
    "Compound_030000001_030025000 : 92 <br>\n",
    "Compound_040000001_040025000 : 1244 <br>\n",
    "Compound_040050001_040075000 : 1606<br>\n",
    "Compound_050725001_050750000 : 955<br>\n",
    "Compound_060000001_060025000 : 4523 <br>\n",
    "Compound_060050001_060075000 : 4216 <br>\n",
    "Compound_070000001_070025000 : Error<br>\n",
    "Compound_080000001_080025000 : 21033 <br>\n",
    "Compound_080050001_080075000 : 19836 <br>\n",
    "Compound_090000001_090025000 : 4854 <br>\n",
    "Compound_100000001_100025000 : 3851 <br>\n",
    "Compound_100050001_100075000 : 2867 <br>\n",
    "Compound_110000001_110025000 : 9808 <br>\n",
    "Compound_120000001_120025000 : 2174 <br>\n",
    "Compound_120050001_120075000 : 2272 <br>\n",
    "Compound_121475001_121500000 : 3220 <br>\n"
   ]
  }
 ],
 "metadata": {
  "kernelspec": {
   "display_name": "Python 3 (ipykernel)",
   "language": "python",
   "name": "python3"
  },
  "language_info": {
   "codemirror_mode": {
    "name": "ipython",
    "version": 3
   },
   "file_extension": ".py",
   "mimetype": "text/x-python",
   "name": "python",
   "nbconvert_exporter": "python",
   "pygments_lexer": "ipython3",
   "version": "3.8.16"
  }
 },
 "nbformat": 4,
 "nbformat_minor": 1
}
