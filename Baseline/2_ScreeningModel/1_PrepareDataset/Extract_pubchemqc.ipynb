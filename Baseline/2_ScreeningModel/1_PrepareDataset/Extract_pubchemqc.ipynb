{
 "cells": [
  {
   "cell_type": "code",
   "execution_count": 1,
   "metadata": {},
   "outputs": [],
   "source": [
    "import os\n",
    "import json\n",
    "import pandas as pd\n",
    "import csv"
   ]
  },
  {
   "cell_type": "code",
   "execution_count": 2,
   "metadata": {},
   "outputs": [],
   "source": [
    "data_count = dict()\n",
    "\n",
    "def pcqc2csv(main_folder_path):\n",
    "\n",
    "    data_list = []\n",
    "\n",
    "    range_p = main_folder_path[:-1].replace(\"Compound_\", '',)  # 폴더 경로에서 이름을 추출하고 range 들어갈 숫자를 추출합니다.\n",
    "    rlist = range_p.split('_')\n",
    "    rlist = [int(i.lstrip('0')) for i in rlist]\n",
    "\n",
    "    for i in range(rlist[0], rlist[1]):    # 위에서 추출한 숫자를 사용합니다.  예) 121475001 121500000\n",
    "        subfolder_name = f\"{i:09d}\"\n",
    "        subfolder_path = os.path.join(main_folder_path, subfolder_name)\n",
    "\n",
    "        json_file_name = f\"{subfolder_name}.B3LYP@PM6.S0.json\"\n",
    "        json_file_path = os.path.join(subfolder_path, json_file_name)\n",
    "\n",
    "        if os.path.exists(json_file_path):\n",
    "            with open(json_file_path, 'r') as json_file:\n",
    "                try:                                     # 말씀하신 Decode 에러 처리 부분입니다.\n",
    "                    json_data = json.load(json_file)  # 해당 코드를 실행시\n",
    "                except json.decoder.JSONDecodeError:  # except xxx: xxx에 해당하는 에러가 발생하면 밑에 코드(여기서는 print())를 실행하고 패스합니다.\n",
    "                    print('Invalid Datatype')\n",
    "\n",
    "                molecular_formula = json_data[\"pubchem\"][\"molecular formula\"]\n",
    "                molecular_weight = json_data[\"pubchem\"][\"molecular weight\"]\n",
    "                atom_count = json_data[\"pubchem\"][\"B3LYP@PM6\"][\"atoms\"][\"elements\"][\"atom count\"]\n",
    "                heavy_atom_count = json_data[\"pubchem\"][\"B3LYP@PM6\"][\"atoms\"][\"elements\"][\"heavy atom count\"]\n",
    "                total_dipole_moment = json_data[\"pubchem\"][\"B3LYP@PM6\"][\"properties\"][\"total dipole moment\"]\n",
    "                homo_alpha = json_data[\"pubchem\"][\"B3LYP@PM6\"][\"properties\"][\"energy\"][\"alpha\"][\"homo\"]\n",
    "                lumo_alpha = json_data[\"pubchem\"][\"B3LYP@PM6\"][\"properties\"][\"energy\"][\"alpha\"][\"lumo\"]\n",
    "                gap_alpha = json_data[\"pubchem\"][\"B3LYP@PM6\"][\"properties\"][\"energy\"][\"alpha\"][\"gap\"]\n",
    "                isomeric_smiles = json_data[\"pubchem\"][\"Isomeric SMILES\"]\n",
    "\n",
    "                # Append the extracted information as a dictionary to the data_list\n",
    "                data_list.append({\n",
    "                    \"i\": i,\n",
    "                    \"molecular_formula\": molecular_formula,\n",
    "                    \"molecular_weight\" : molecular_weight,\n",
    "                    \"atom_count\": atom_count,\n",
    "                    \"heavy_atom_count\": heavy_atom_count,\n",
    "                    \"total_dipole_moment\": total_dipole_moment,\n",
    "                    \"homo\": homo_alpha,\n",
    "                    \"lumo\": lumo_alpha,\n",
    "                    \"gap\": gap_alpha,\n",
    "                    \"Isomeric_SMILES\": isomeric_smiles\n",
    "                })\n",
    "\n",
    "    # Create a pandas DataFrame from the data_list\n",
    "    df = pd.DataFrame(data_list)\n",
    "\n",
    "    # Set the \"i\" column as the index of the DataFrame\n",
    "    df.set_index('i', inplace=True)\n",
    "\n",
    "    df.to_csv(main_folder_path[:-1] + '.csv')\n",
    "\n",
    "    data_count[main_folder_path[:-1]] = len(df)"
   ]
  },
  {
   "cell_type": "code",
   "execution_count": 3,
   "metadata": {},
   "outputs": [
    {
     "data": {
      "text/plain": [
       "['Compound_045250001_045275000/',\n",
       " 'Compound_018075001_018100000/',\n",
       " 'Compound_034700001_034725000/',\n",
       " 'Compound_043650001_043675000/',\n",
       " 'Compound_012450001_012475000/',\n",
       " 'Compound_051925001_051950000/',\n",
       " 'Compound_032225001_032250000/',\n",
       " 'Compound_044100001_044125000/',\n",
       " 'Compound_066000001_066025000/',\n",
       " 'Compound_038775001_038800000/',\n",
       " 'Compound_042400001_042425000/',\n",
       " 'Compound_056850001_056875000/',\n",
       " 'Compound_025275001_025300000/',\n",
       " 'Compound_003875001_003900000/',\n",
       " 'Compound_036200001_036225000/',\n",
       " 'Compound_062650001_062675000/',\n",
       " 'Compound_011150001_011175000/',\n",
       " 'Compound_053275001_053300000/',\n",
       " 'Compound_033575001_033600000/',\n",
       " 'Compound_038450001_038475000/',\n",
       " 'Compound_041675001_041700000/',\n",
       " 'Compound_039725001_039750000/',\n",
       " 'Compound_055100001_055125000/',\n",
       " 'Compound_014250001_014275000/',\n",
       " 'Compound_041225001_041250000/',\n",
       " 'Compound_048175001_048200000/',\n",
       " 'Compound_061500001_061525000/',\n",
       " 'Compound_015375001_015400000/',\n",
       " 'Compound_008300001_008325000/',\n",
       " 'Compound_007600001_007625000/',\n",
       " 'Compound_006525001_006550000/',\n",
       " 'Compound_005950001_005975000/',\n",
       " 'Compound_004650001_004675000/',\n",
       " 'Compound_024000001_024025000/',\n",
       " 'Compound_068250001_068275000/',\n",
       " 'Compound_067000001_067025000/',\n",
       " 'Compound_046225001_046250000/',\n",
       " 'Compound_063225001_063250000/',\n",
       " 'Compound_023350001_023375000/',\n",
       " 'Compound_021175001_021200000/',\n",
       " 'Compound_013500001_013525000/',\n",
       " 'Compound_042825001_042850000/',\n",
       " 'Compound_038025001_038050000/',\n",
       " 'Compound_010025001_010050000/',\n",
       " 'Compound_016100001_016125000/',\n",
       " 'Compound_044775001_044800000/',\n",
       " 'Compound_064050001_064075000/']"
      ]
     },
     "execution_count": 3,
     "metadata": {},
     "output_type": "execute_result"
    }
   ],
   "source": [
    "file_list = os.listdir('.')\n",
    "folder_list = [file + '/' for file in file_list if '.' not in file]\n",
    "folder_list"
   ]
  },
  {
   "cell_type": "code",
   "execution_count": 4,
   "metadata": {},
   "outputs": [],
   "source": [
    "for i in folder_list:  # 처리한 에러 메세지 \"Invalid Datatype\" 가 한번만 뜬걸보니 공백 json은 1개 밖에 없었나 봅니다!\n",
    "    pcqc2csv(i)"
   ]
  },
  {
   "cell_type": "code",
   "execution_count": 5,
   "metadata": {},
   "outputs": [
    {
     "data": {
      "text/plain": [
       "{'Compound_045250001_045275000': 1597,\n",
       " 'Compound_018075001_018100000': 2422,\n",
       " 'Compound_034700001_034725000': 148,\n",
       " 'Compound_043650001_043675000': 18550,\n",
       " 'Compound_012450001_012475000': 4554,\n",
       " 'Compound_051925001_051950000': 1942,\n",
       " 'Compound_032225001_032250000': 119,\n",
       " 'Compound_044100001_044125000': 1549,\n",
       " 'Compound_066000001_066025000': 22019,\n",
       " 'Compound_038775001_038800000': 91,\n",
       " 'Compound_042400001_042425000': 220,\n",
       " 'Compound_056850001_056875000': 2998,\n",
       " 'Compound_025275001_025300000': 465,\n",
       " 'Compound_003875001_003900000': 1635,\n",
       " 'Compound_036200001_036225000': 73,\n",
       " 'Compound_062650001_062675000': 21574,\n",
       " 'Compound_011150001_011175000': 5756,\n",
       " 'Compound_053275001_053300000': 2620,\n",
       " 'Compound_033575001_033600000': 65,\n",
       " 'Compound_038450001_038475000': 202,\n",
       " 'Compound_041675001_041700000': 159,\n",
       " 'Compound_039725001_039750000': 1537,\n",
       " 'Compound_055100001_055125000': 22570,\n",
       " 'Compound_014250001_014275000': 2541,\n",
       " 'Compound_041225001_041250000': 198,\n",
       " 'Compound_048175001_048200000': 219,\n",
       " 'Compound_061500001_061525000': 17868,\n",
       " 'Compound_015375001_015400000': 2370,\n",
       " 'Compound_008300001_008325000': 1625,\n",
       " 'Compound_007600001_007625000': 1677,\n",
       " 'Compound_006525001_006550000': 3509,\n",
       " 'Compound_005950001_005975000': 1453,\n",
       " 'Compound_004650001_004675000': 2153,\n",
       " 'Compound_024000001_024025000': 1007,\n",
       " 'Compound_068250001_068275000': 5577,\n",
       " 'Compound_067000001_067025000': 2895,\n",
       " 'Compound_046225001_046250000': 2238,\n",
       " 'Compound_063225001_063250000': 19242,\n",
       " 'Compound_023350001_023375000': 4701,\n",
       " 'Compound_021175001_021200000': 4282,\n",
       " 'Compound_013500001_013525000': 3191,\n",
       " 'Compound_042825001_042850000': 508,\n",
       " 'Compound_038025001_038050000': 170,\n",
       " 'Compound_010025001_010050000': 5054,\n",
       " 'Compound_016100001_016125000': 4200,\n",
       " 'Compound_044775001_044800000': 472,\n",
       " 'Compound_064050001_064075000': 21122}"
      ]
     },
     "execution_count": 5,
     "metadata": {},
     "output_type": "execute_result"
    }
   ],
   "source": [
    "data_count"
   ]
  },
  {
   "cell_type": "code",
   "execution_count": 6,
   "metadata": {},
   "outputs": [
    {
     "data": {
      "text/plain": [
       "221137"
      ]
     },
     "execution_count": 6,
     "metadata": {},
     "output_type": "execute_result"
    }
   ],
   "source": [
    "sum(data_count.values())"
   ]
  },
  {
   "cell_type": "code",
   "execution_count": null,
   "metadata": {},
   "outputs": [],
   "source": []
  }
 ],
 "metadata": {
  "kernelspec": {
   "display_name": "PDF",
   "language": "python",
   "name": "pdf"
  },
  "language_info": {
   "codemirror_mode": {
    "name": "ipython",
    "version": 3
   },
   "file_extension": ".py",
   "mimetype": "text/x-python",
   "name": "python",
   "nbconvert_exporter": "python",
   "pygments_lexer": "ipython3",
   "version": "3.8.16"
  }
 },
 "nbformat": 4,
 "nbformat_minor": 1
}
